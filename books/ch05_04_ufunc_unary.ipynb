{
 "cells": [
  {
   "attachments": {},
   "cell_type": "markdown",
   "id": "bf1659e4",
   "metadata": {},
   "source": [
    "## 단항 유니버설 함수"
   ]
  },
  {
   "cell_type": "code",
   "execution_count": 1,
   "id": "e3bd7c5a",
   "metadata": {},
   "outputs": [
    {
     "data": {
      "text/plain": [
       "array([ 1., -2.,  2., -3.,  2., -2.])"
      ]
     },
     "execution_count": 1,
     "metadata": {},
     "output_type": "execute_result"
    }
   ],
   "source": [
    "import numpy as np\n",
    "\n",
    "# 반올림: 수점을 반올림\n",
    "np.around([1.1, -1.6, 2, -2.7, 2.01, -2.01])"
   ]
  },
  {
   "cell_type": "code",
   "execution_count": 2,
   "id": "af695c7b",
   "metadata": {},
   "outputs": [
    {
     "data": {
      "text/plain": [
       "array([ 2., -1.,  2., -2.,  3., -2.])"
      ]
     },
     "execution_count": 2,
     "metadata": {},
     "output_type": "execute_result"
    }
   ],
   "source": [
    "# 올림: 주어진 값과 같은 정수 혹은 큰 가장 가까운 정수을 반환\n",
    "np.ceil([1.1, -1.6, 2, -2.7, 2.01, -2.01])"
   ]
  },
  {
   "cell_type": "code",
   "execution_count": 3,
   "id": "1d366372",
   "metadata": {},
   "outputs": [
    {
     "data": {
      "text/plain": [
       "array([ 1., -2.,  2., -3.,  2., -3.])"
      ]
     },
     "execution_count": 3,
     "metadata": {},
     "output_type": "execute_result"
    }
   ],
   "source": [
    "# 내림: 주어진 값과 같은 정수 혹은 작은 가장 가까운 정수 반환\n",
    "np.floor([1.1, -1.6, 2, -2.7, 2.01, -2.01])"
   ]
  },
  {
   "cell_type": "code",
   "execution_count": 4,
   "id": "df25f35a",
   "metadata": {},
   "outputs": [
    {
     "data": {
      "text/plain": [
       "array([ 1., -1.,  2., -2.,  2., -2.])"
      ]
     },
     "execution_count": 4,
     "metadata": {},
     "output_type": "execute_result"
    }
   ],
   "source": [
    "# 버림: 소수점 이하 버림\n",
    "np.trunc([1.1, -1.6, 2, -2.7, 2.01, -2.01])"
   ]
  },
  {
   "cell_type": "code",
   "execution_count": 5,
   "id": "e2140197",
   "metadata": {},
   "outputs": [
    {
     "data": {
      "text/plain": [
       "array([ 1., -2.,  2., -3.,  2., -2.])"
      ]
     },
     "execution_count": 5,
     "metadata": {},
     "output_type": "execute_result"
    }
   ],
   "source": [
    "# 가장 가까운 정수로 반올림\n",
    "np.rint([1.1, -1.6, 2, -2.7, 2.01, -2.01])"
   ]
  },
  {
   "cell_type": "code",
   "execution_count": 6,
   "id": "42879105",
   "metadata": {},
   "outputs": [
    {
     "data": {
      "text/plain": [
       "array([ 1., -1.,  2., -2.,  2., -2.])"
      ]
     },
     "execution_count": 6,
     "metadata": {},
     "output_type": "execute_result"
    }
   ],
   "source": [
    "# 0쪽으로 가장 가까운 정수로 반올림\n",
    "np.fix([1.1, -1.6, 2, -2.7, 2.01, -2.01])"
   ]
  },
  {
   "cell_type": "code",
   "execution_count": 7,
   "id": "8d4eb6f1",
   "metadata": {},
   "outputs": [
    {
     "data": {
      "text/plain": [
       "array([1.1       , 1.6       , 2.        , 2.7       , 2.01      ,\n",
       "       2.01      , 2.23606798])"
      ]
     },
     "execution_count": 7,
     "metadata": {},
     "output_type": "execute_result"
    }
   ],
   "source": [
    "# 절대값 구하기: 정수, 부동소수점수, 복소수\n",
    "np.abs([1.1, -1.6, 2, -2.7, 2.01, -2.01, 1+2j])"
   ]
  },
  {
   "cell_type": "code",
   "execution_count": 8,
   "id": "d31130ef",
   "metadata": {},
   "outputs": [
    {
     "data": {
      "text/plain": [
       "array([1.1       , 1.6       , 2.        , 2.7       , 2.01      ,\n",
       "       2.01      , 2.23606798])"
      ]
     },
     "execution_count": 8,
     "metadata": {},
     "output_type": "execute_result"
    }
   ],
   "source": [
    "np.absolute([1.1, -1.6, 2, -2.7, 2.01, -2.01, 1+2j])"
   ]
  },
  {
   "cell_type": "code",
   "execution_count": 9,
   "id": "dac85303",
   "metadata": {},
   "outputs": [
    {
     "data": {
      "text/plain": [
       "array([1.1 , 1.6 , 2.  , 2.7 , 2.01, 2.01])"
      ]
     },
     "execution_count": 9,
     "metadata": {},
     "output_type": "execute_result"
    }
   ],
   "source": [
    "# 절대값 구하기: 정수, 부동소수점수 (abs보다 빠름)\n",
    "np.fabs([1.1, -1.6, 2, -2.7, 2.01, -2.01])"
   ]
  },
  {
   "cell_type": "code",
   "execution_count": 10,
   "id": "c7edfbd3",
   "metadata": {},
   "outputs": [
    {
     "data": {
      "text/plain": [
       "array([1.        , 2.        , 3.        , 4.58257569])"
      ]
     },
     "execution_count": 10,
     "metadata": {},
     "output_type": "execute_result"
    }
   ],
   "source": [
    "# 제곱근 구하기\n",
    "np.sqrt([1,4,9,21])"
   ]
  },
  {
   "cell_type": "code",
   "execution_count": 11,
   "id": "237dad8d",
   "metadata": {},
   "outputs": [
    {
     "data": {
      "text/plain": [
       "array([1., 2., 3.])"
      ]
     },
     "execution_count": 11,
     "metadata": {},
     "output_type": "execute_result"
    }
   ],
   "source": [
    "# 큐브루트(세제곱근)구하기\n",
    "np.cbrt([1,8,27])"
   ]
  },
  {
   "cell_type": "code",
   "execution_count": 12,
   "id": "5bc5345a",
   "metadata": {},
   "outputs": [
    {
     "data": {
      "text/plain": [
       "array([  1,  16,  81, 441])"
      ]
     },
     "execution_count": 12,
     "metadata": {},
     "output_type": "execute_result"
    }
   ],
   "source": [
    "# 제곱값 구하기\n",
    "np.square([1,4,9,21])"
   ]
  },
  {
   "cell_type": "code",
   "execution_count": 13,
   "id": "0117fc99",
   "metadata": {},
   "outputs": [
    {
     "data": {
      "text/plain": [
       "(array([ 0.1 , -0.6 ,  0.  , -0.7 ,  0.01, -0.01,  0.  ]),\n",
       " array([ 1., -1.,  2., -2.,  2., -2.,  0.]))"
      ]
     },
     "execution_count": 13,
     "metadata": {},
     "output_type": "execute_result"
    }
   ],
   "source": [
    "# 소수와 정수 부분으로 나누기\n",
    "np.modf([1.1, -1.6, 2, -2.7, 2.01, -2.01, 0])"
   ]
  },
  {
   "cell_type": "code",
   "execution_count": 14,
   "id": "564245c8",
   "metadata": {},
   "outputs": [
    {
     "data": {
      "text/plain": [
       "array([ 1., -1.,  1., -1.,  1., -1.,  0.])"
      ]
     },
     "execution_count": 14,
     "metadata": {},
     "output_type": "execute_result"
    }
   ],
   "source": [
    "# 부호 판별: 1(양수), 0(영), -1(음수)\n",
    "np.sign([1.1, -1.6, 2, -2.7, 2.01, -2.01, 0])"
   ]
  },
  {
   "cell_type": "code",
   "execution_count": 15,
   "id": "f3ae5a0b",
   "metadata": {},
   "outputs": [
    {
     "data": {
      "text/plain": [
       "array([1.-2.j, 1.+3.j, 2.+6.j])"
      ]
     },
     "execution_count": 15,
     "metadata": {},
     "output_type": "execute_result"
    }
   ],
   "source": [
    "# 복소수의 허수부분의 부호 변경\n",
    "np.conj([1+2j, 1-3j, 2-6j])"
   ]
  },
  {
   "cell_type": "code",
   "execution_count": 16,
   "id": "42ea60fb",
   "metadata": {},
   "outputs": [
    {
     "data": {
      "text/plain": [
       "array([1.-2.j, 1.+3.j, 2.+6.j])"
      ]
     },
     "execution_count": 16,
     "metadata": {},
     "output_type": "execute_result"
    }
   ],
   "source": [
    "np.conjugate([1+2j, 1-3j, 2-6j])"
   ]
  },
  {
   "cell_type": "code",
   "execution_count": 17,
   "id": "3f57e428",
   "metadata": {
    "scrolled": true
   },
   "outputs": [
    {
     "data": {
      "text/plain": [
       "array([ 1.1 , -1.6 ,  2.  , -2.7 ,  2.01, -2.01])"
      ]
     },
     "execution_count": 17,
     "metadata": {},
     "output_type": "execute_result"
    }
   ],
   "source": [
    "# 1 곱하기\n",
    "np.positive([1.1, -1.6, 2, -2.7, 2.01, -2.01])"
   ]
  },
  {
   "cell_type": "code",
   "execution_count": 18,
   "id": "d24268cc",
   "metadata": {},
   "outputs": [
    {
     "data": {
      "text/plain": [
       "array([-1.1 ,  1.6 , -2.  ,  2.7 , -2.01,  2.01])"
      ]
     },
     "execution_count": 18,
     "metadata": {},
     "output_type": "execute_result"
    }
   ],
   "source": [
    "# 부호변경: -1를 곱하기\n",
    "np.negative([1.1, -1.6, 2, -2.7, 2.01, -2.01])"
   ]
  },
  {
   "cell_type": "code",
   "execution_count": 19,
   "id": "d7490399",
   "metadata": {},
   "outputs": [
    {
     "data": {
      "text/plain": [
       "2.01"
      ]
     },
     "execution_count": 19,
     "metadata": {},
     "output_type": "execute_result"
    }
   ],
   "source": [
    "# 배열의 최대값\n",
    "np.max([1.1, -1.6, 2, -2.7, 2.01, -2.01])"
   ]
  },
  {
   "cell_type": "code",
   "execution_count": 20,
   "id": "3f2f65e1",
   "metadata": {},
   "outputs": [
    {
     "data": {
      "text/plain": [
       "-2.7"
      ]
     },
     "execution_count": 20,
     "metadata": {},
     "output_type": "execute_result"
    }
   ],
   "source": [
    "# 배열의 최소값\n",
    "np.min([1.1, -1.6, 2, -2.7, 2.01, -2.01])"
   ]
  },
  {
   "cell_type": "code",
   "execution_count": 21,
   "id": "506bbbd9",
   "metadata": {},
   "outputs": [
    {
     "data": {
      "text/plain": [
       "4"
      ]
     },
     "execution_count": 21,
     "metadata": {},
     "output_type": "execute_result"
    }
   ],
   "source": [
    "# 배열의 최대값의 인덱스\n",
    "np.argmax([1.1, -1.6, 2, -2.7, 2.01, -2.01])"
   ]
  },
  {
   "cell_type": "code",
   "execution_count": 22,
   "id": "84dc8100",
   "metadata": {
    "scrolled": true
   },
   "outputs": [
    {
     "data": {
      "text/plain": [
       "3"
      ]
     },
     "execution_count": 22,
     "metadata": {},
     "output_type": "execute_result"
    }
   ],
   "source": [
    "#배열의 최소값의 인덱스\n",
    "np.argmin([1.1, -1.6, 2, -2.7, 2.01, -2.01])"
   ]
  },
  {
   "cell_type": "code",
   "execution_count": 23,
   "id": "5f9cab49",
   "metadata": {},
   "outputs": [
    {
     "data": {
      "text/plain": [
       "-1.9074999999999998"
      ]
     },
     "execution_count": 23,
     "metadata": {},
     "output_type": "execute_result"
    }
   ],
   "source": [
    "# 백분위 25%\n",
    "np.percentile([1.1, -1.6, 2, -2.7, 2.01, -2.01], 25)"
   ]
  },
  {
   "cell_type": "code",
   "execution_count": 24,
   "id": "900171bc",
   "metadata": {},
   "outputs": [
    {
     "data": {
      "text/plain": [
       "-0.25"
      ]
     },
     "execution_count": 24,
     "metadata": {},
     "output_type": "execute_result"
    }
   ],
   "source": [
    "# 백분위 50%\n",
    "np.percentile([1.1, -1.6, 2, -2.7, 2.01, -2.01], 50)"
   ]
  },
  {
   "cell_type": "code",
   "execution_count": 25,
   "id": "88dc4a33",
   "metadata": {},
   "outputs": [
    {
     "data": {
      "text/plain": [
       "-0.25"
      ]
     },
     "execution_count": 25,
     "metadata": {},
     "output_type": "execute_result"
    }
   ],
   "source": [
    "# 중앙값 구하기\n",
    "np.median([1.1, -1.6, 2, -2.7, 2.01, -2.01])"
   ]
  },
  {
   "cell_type": "code",
   "execution_count": 26,
   "id": "11303d92",
   "metadata": {},
   "outputs": [
    {
     "data": {
      "text/plain": [
       "-0.20000000000000004"
      ]
     },
     "execution_count": 26,
     "metadata": {},
     "output_type": "execute_result"
    }
   ],
   "source": [
    "# 평균값\n",
    "np.mean([1.1, -1.6, 2, -2.7, 2.01, -2.01])"
   ]
  },
  {
   "cell_type": "code",
   "execution_count": 27,
   "id": "7c519144",
   "metadata": {},
   "outputs": [
    {
     "data": {
      "text/plain": [
       "array([  2.71828183,   7.3890561 ,  20.08553692,  54.59815003,\n",
       "       148.4131591 ])"
      ]
     },
     "execution_count": 27,
     "metadata": {},
     "output_type": "execute_result"
    }
   ],
   "source": [
    "#요소를 [e^요소값] 구하기\n",
    "np.exp([1,2,3,4,5])\n"
   ]
  },
  {
   "cell_type": "code",
   "execution_count": 28,
   "id": "efc0e2cf",
   "metadata": {},
   "outputs": [
    {
     "data": {
      "text/plain": [
       "array([ 2.,  4.,  8., 16., 32.])"
      ]
     },
     "execution_count": 28,
     "metadata": {},
     "output_type": "execute_result"
    }
   ],
   "source": [
    "# 요소를 [2^요소값] 구하기\n",
    "np.exp2([1,2,3,4,5])"
   ]
  },
  {
   "cell_type": "code",
   "execution_count": 29,
   "id": "435ce292",
   "metadata": {},
   "outputs": [
    {
     "data": {
      "text/plain": [
       "array([-22.33270375,   0.69314718,   1.79175947])"
      ]
     },
     "execution_count": 29,
     "metadata": {},
     "output_type": "execute_result"
    }
   ],
   "source": [
    "# 밑이 e인 로그\n",
    "np.log([0.0000000002, 2, 6])\n"
   ]
  },
  {
   "cell_type": "code",
   "execution_count": 30,
   "id": "65d01dd4",
   "metadata": {},
   "outputs": [
    {
     "data": {
      "text/plain": [
       "array([2.00000000e-10, 1.09861229e+00, 1.94591015e+00])"
      ]
     },
     "execution_count": 30,
     "metadata": {},
     "output_type": "execute_result"
    }
   ],
   "source": [
    "# 밑이 e인 로그. 다만 log(1+x) 형태를 갖음; log에서 값이 0에 가까우면 발산하는 점을 보완함\n",
    "np.log1p([0.0000000002, 2, 6])"
   ]
  },
  {
   "cell_type": "code",
   "execution_count": 31,
   "id": "89fcbe0c",
   "metadata": {},
   "outputs": [
    {
     "data": {
      "text/plain": [
       "array([-32.21928095,   1.        ,   2.5849625 ])"
      ]
     },
     "execution_count": 31,
     "metadata": {},
     "output_type": "execute_result"
    }
   ],
   "source": [
    "#밑이 2인 로그\n",
    "np.log2([0.0000000002, 2, 6])"
   ]
  },
  {
   "cell_type": "code",
   "execution_count": 32,
   "id": "68ec5d6b",
   "metadata": {},
   "outputs": [
    {
     "data": {
      "text/plain": [
       "array([-9.69897   ,  0.30103   ,  0.77815125])"
      ]
     },
     "execution_count": 32,
     "metadata": {},
     "output_type": "execute_result"
    }
   ],
   "source": [
    "# 밑이 10인 로그\n",
    "np.log10([0.0000000002, 2, 6])"
   ]
  },
  {
   "cell_type": "code",
   "execution_count": 33,
   "id": "6e9958d5",
   "metadata": {},
   "outputs": [
    {
     "data": {
      "text/plain": [
       "array([ True, False, False, False])"
      ]
     },
     "execution_count": 33,
     "metadata": {},
     "output_type": "execute_result"
    }
   ],
   "source": [
    "# NaN 이면 True, 그외 False 반환\n",
    "np.isnan([np.nan, np.inf, np.log1p(2), 2.])"
   ]
  },
  {
   "cell_type": "code",
   "execution_count": 34,
   "id": "78ca08a6",
   "metadata": {},
   "outputs": [
    {
     "data": {
      "text/plain": [
       "array([ True,  True,  True,  True, False, False, False])"
      ]
     },
     "execution_count": 34,
     "metadata": {},
     "output_type": "execute_result"
    }
   ],
   "source": [
    "# 유한수이면 True, 그외 False 반환\n",
    "np.isfinite([1.,2.,4.,5., np.nan, np.inf, np.NINF])"
   ]
  },
  {
   "cell_type": "code",
   "execution_count": 35,
   "id": "3e5e5acf",
   "metadata": {},
   "outputs": [
    {
     "data": {
      "text/plain": [
       "array([False, False, False, False, False,  True,  True])"
      ]
     },
     "execution_count": 35,
     "metadata": {},
     "output_type": "execute_result"
    }
   ],
   "source": [
    "# 무한수이면 True, 그외 False 반환\n",
    "np.isinf([1.,2.,4.,5., np.nan, np.inf, np.NINF])"
   ]
  },
  {
   "cell_type": "code",
   "execution_count": 36,
   "id": "fbed98fb",
   "metadata": {},
   "outputs": [
    {
     "data": {
      "text/plain": [
       "array([1.  , 0.5 , 0.25, 0.2 ])"
      ]
     },
     "execution_count": 36,
     "metadata": {},
     "output_type": "execute_result"
    }
   ],
   "source": [
    "#역수(1/요소값) 구하기\n",
    "np.reciprocal([1.,2.,4.,5.])"
   ]
  },
  {
   "cell_type": "code",
   "execution_count": 37,
   "id": "c3ee4c8d",
   "metadata": {},
   "outputs": [
    {
     "data": {
      "text/plain": [
       "array([False, False, False,  True])"
      ]
     },
     "execution_count": 37,
     "metadata": {},
     "output_type": "execute_result"
    }
   ],
   "source": [
    "# 논리 NOT 연산\n",
    "np.logical_not([True, True, True, False])"
   ]
  }
 ],
 "metadata": {
  "kernelspec": {
   "display_name": "Python 3",
   "language": "python",
   "name": "python3"
  },
  "language_info": {
   "codemirror_mode": {
    "name": "ipython",
    "version": 3
   },
   "file_extension": ".py",
   "mimetype": "text/x-python",
   "name": "python",
   "nbconvert_exporter": "python",
   "pygments_lexer": "ipython3",
   "version": "3.10.4"
  }
 },
 "nbformat": 4,
 "nbformat_minor": 5
}
