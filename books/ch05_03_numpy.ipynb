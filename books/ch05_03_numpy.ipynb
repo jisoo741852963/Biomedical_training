{
 "cells": [
  {
   "attachments": {},
   "cell_type": "markdown",
   "id": "5e0d3fb1",
   "metadata": {},
   "source": [
    "## ndarray 다루기"
   ]
  },
  {
   "cell_type": "code",
   "execution_count": 1,
   "id": "92067521",
   "metadata": {},
   "outputs": [
    {
     "name": "stdout",
     "output_type": "stream",
     "text": [
      "a:  [0 1 2 3 4 5]\n",
      "type(a):  <class 'numpy.ndarray'>\n",
      "b:  [[0 1 2]\n",
      " [3 4 5]]\n",
      "c:  [[[ 0  1  2]\n",
      "  [ 3  4  5]]\n",
      "\n",
      " [[ 6  7  8]\n",
      "  [ 9 10 11]]]\n",
      "2\n",
      "2\n",
      "3\n"
     ]
    }
   ],
   "source": [
    "import numpy as np\n",
    "\n",
    "# numpy 기초\n",
    "a = np.array([0,1,2,3,4,5]) # 1차원 배열\n",
    "b = np.array([(0,1,2), (3,4,5)]) # 2차원 배열\n",
    "c = np.array([[[0,1,2],\n",
    "               [3,4,5]],\n",
    "             [[6,7,8],\n",
    "               [9,10,11]]]) # 3차원 배열 2x2x3\n",
    "\n",
    "print(\"a: \", a)\n",
    "print(\"type(a): \", type(a))\n",
    "print(\"b: \", b)\n",
    "print(\"c: \", c)\n",
    "\n",
    "print(len(c)) # 3차원 배열 깊이\n",
    "print(len(c[0])) # 3차원 배열 행\n",
    "print(len(c[0][0])) # 3차원 배열 열"
   ]
  },
  {
   "cell_type": "code",
   "execution_count": 2,
   "id": "776002cd",
   "metadata": {},
   "outputs": [
    {
     "name": "stdout",
     "output_type": "stream",
     "text": [
      "zero1:  [0. 0. 0.]\n",
      "zero2:  [[0. 0. 0.]\n",
      " [0. 0. 0.]\n",
      " [0. 0. 0.]]\n",
      "one1:  [1. 1. 1.]\n",
      "one2:  [[1. 1. 1.]\n",
      " [1. 1. 1.]\n",
      " [1. 1. 1.]]\n",
      "arange  [0 1 2 3 4 5]\n",
      "empty(5):  [2.12199579e-314 0.00000000e+000 2.82605549e-321 6.55696700e-312\n",
      " 0.00000000e+000]\n",
      "linspace:  [1.  1.5 2. ]\n",
      "empty:  [[3.44900708e-307 4.22786102e-307 2.78145267e-307]\n",
      " [4.00537061e-307 9.45708167e-308 0.00000000e+000]]\n",
      "eye:  [[1. 0. 0. 0.]\n",
      " [0. 1. 0. 0.]\n",
      " [0. 0. 1. 0.]\n",
      " [0. 0. 0. 1.]]\n",
      "full:  [[20 20 20]\n",
      " [20 20 20]]\n",
      "random1:  [[0.88773685 0.76548052 0.33250456]\n",
      " [0.24390284 0.93470809 0.62475956]]\n",
      "random2:  [[-0.21270593 -0.02219115 -1.04734924]\n",
      " [-2.04167354  0.16727721 -0.09497437]]\n"
     ]
    }
   ],
   "source": [
    "# 배열 생성 함수를 활용한 배열 만들기\n",
    "z1 = np.zeros(3) # '0' 3개 요소 1차원 배열\n",
    "z2 = np.zeros((3,3)) # '0' 3x3개 요소 2차원 배열 \n",
    "one1 = np.ones(3)  # '1' 3개 요소 1차원 배열\n",
    "one2 = np.ones((3,3)) # '1' 3x3개 요소 2차원 배열 \n",
    "\n",
    "print(\"zero1: \", z1)\n",
    "print(\"zero2: \", z2)\n",
    "print(\"one1: \", one1)\n",
    "print(\"one2: \", one2)\n",
    "\n",
    "# '0'부터 '6'미만까지 '1'씩 증가하는 1차원 수열 \n",
    "#(빌트인 함수 range와 유사)\n",
    "ar1 = np.arange(0, 6, 1, dtype=np.int8)\n",
    "print(\"arange \" , ar1)\n",
    "\n",
    "lin1 = np.linspace(1, 2, 3)\n",
    "\n",
    "#초기화되지 않은 값으로 배열을 생성\n",
    "print(\"empty(5): \", np.empty(5))\n",
    "e1 = np.empty((2,3))\n",
    "\n",
    "# 4x4 단위행렬 만들기\n",
    "e2 = np.eye(4)\n",
    "\n",
    "# 2x3배열을 만드록, 20 값으로 모두 채움\n",
    "f1 = np.full((2,3),20)\n",
    "\n",
    "# 표준정규분포 난수\n",
    "ran1 = np.random.rand(2,3)\n",
    "# 가우시안 표준정규분포 난수\n",
    "ran2 = np.random.randn(2,3)\n",
    "\n",
    "\n",
    "print(\"linspace: \" , lin1)\n",
    "print(\"empty: \" , e1)\n",
    "print(\"eye: \" , e2)\n",
    "print(\"full: \", f1)\n",
    "print(\"random1: \", ran1)\n",
    "print(\"random2: \", ran2)"
   ]
  },
  {
   "cell_type": "code",
   "execution_count": 3,
   "id": "a3f99a61",
   "metadata": {},
   "outputs": [
    {
     "data": {
      "text/plain": [
       "dtype('int32')"
      ]
     },
     "execution_count": 3,
     "metadata": {},
     "output_type": "execute_result"
    }
   ],
   "source": [
    "np.dtype('i4')"
   ]
  },
  {
   "cell_type": "code",
   "execution_count": 4,
   "id": "ee7474fc",
   "metadata": {},
   "outputs": [
    {
     "data": {
      "text/plain": [
       "dtype('bool')"
      ]
     },
     "execution_count": 4,
     "metadata": {},
     "output_type": "execute_result"
    }
   ],
   "source": [
    "np.dtype('?')"
   ]
  },
  {
   "attachments": {},
   "cell_type": "markdown",
   "id": "fadae2c7",
   "metadata": {},
   "source": [
    "## 속성"
   ]
  },
  {
   "cell_type": "code",
   "execution_count": 5,
   "id": "d9c4fc7e",
   "metadata": {
    "scrolled": false
   },
   "outputs": [
    {
     "name": "stdout",
     "output_type": "stream",
     "text": [
      "1\n",
      "(6,)\n",
      "int32\n",
      "2\n",
      "(2, 3)\n",
      "3\n",
      "(2, 2, 3)\n"
     ]
    }
   ],
   "source": [
    "# 배열 속성알아보기\n",
    "print(a.ndim) #  배열 차원수 또는 배열의 축수\n",
    "print(a.shape) # 배열 각 차원 크기 표현\n",
    "print(a.dtype) # 배열 요소의 데이터 타입\n",
    "\n",
    "print(b.ndim)\n",
    "print(b.shape)\n",
    "\n",
    "print(c.ndim)\n",
    "print(c.shape)"
   ]
  },
  {
   "cell_type": "code",
   "execution_count": 6,
   "id": "4ebeb96d",
   "metadata": {
    "scrolled": true
   },
   "outputs": [
    {
     "name": "stdout",
     "output_type": "stream",
     "text": [
      "6\n",
      "6\n",
      "12\n"
     ]
    }
   ],
   "source": [
    "# 배열 모양새\n",
    "print(a.size) # 전체 배열 요소 수\n",
    "print(b.size)\n",
    "print(c.size)"
   ]
  },
  {
   "attachments": {},
   "cell_type": "markdown",
   "id": "a2acbb2d",
   "metadata": {},
   "source": [
    "## 전치"
   ]
  },
  {
   "cell_type": "code",
   "execution_count": 7,
   "id": "66bd7211",
   "metadata": {},
   "outputs": [
    {
     "name": "stdout",
     "output_type": "stream",
     "text": [
      "[0 1 2 3 4 5]\n",
      "[[0 3]\n",
      " [1 4]\n",
      " [2 5]]\n"
     ]
    }
   ],
   "source": [
    "# 배열의 전치\n",
    "print(a.T) # 전치, 동일한 결과\n",
    "print(b.T) # 전치, 행과 열이 뒤바뀜"
   ]
  },
  {
   "cell_type": "code",
   "execution_count": 8,
   "id": "2d7e074c",
   "metadata": {},
   "outputs": [
    {
     "data": {
      "text/plain": [
       "array([[[ 0,  3],\n",
       "        [ 1,  4],\n",
       "        [ 2,  5]],\n",
       "\n",
       "       [[ 6,  9],\n",
       "        [ 7, 10],\n",
       "        [ 8, 11]]])"
      ]
     },
     "execution_count": 8,
     "metadata": {},
     "output_type": "execute_result"
    }
   ],
   "source": [
    "c.transpose(0,2,1) #첫번째 차원은 그대로 두고, 두번째, 세번째 축을 변경"
   ]
  },
  {
   "cell_type": "code",
   "execution_count": 9,
   "id": "ebeed410",
   "metadata": {},
   "outputs": [
    {
     "data": {
      "text/plain": [
       "array([[[ 0,  1,  2],\n",
       "        [ 6,  7,  8]],\n",
       "\n",
       "       [[ 3,  4,  5],\n",
       "        [ 9, 10, 11]]])"
      ]
     },
     "execution_count": 9,
     "metadata": {},
     "output_type": "execute_result"
    }
   ],
   "source": [
    "c.swapaxes(0,1) #세번째 차원은 그대로 두고, 첫번째, 두번째 축을 변경"
   ]
  },
  {
   "attachments": {},
   "cell_type": "markdown",
   "id": "52505337",
   "metadata": {},
   "source": [
    "## 인덱싱과 슬라이싱"
   ]
  },
  {
   "cell_type": "code",
   "execution_count": 10,
   "id": "79f21174",
   "metadata": {
    "scrolled": true
   },
   "outputs": [
    {
     "name": "stdout",
     "output_type": "stream",
     "text": [
      "1\n",
      "5\n",
      "4\n"
     ]
    }
   ],
   "source": [
    "# 배열 인덱싱\n",
    "print(b[0, 1]) # b 2차원 배열의 첫번째 행의 두번째 열\n",
    "print(b[1, 2]) # b 2차원 배열의 두번째 행의 세번째 열\n",
    "print(c[0,1,1]) # c 3차원 배열의 첫번째 차원의 두번째 행, 두번째 열"
   ]
  },
  {
   "cell_type": "code",
   "execution_count": 11,
   "id": "deae71af",
   "metadata": {
    "scrolled": true
   },
   "outputs": [
    {
     "name": "stdout",
     "output_type": "stream",
     "text": [
      "[[0 1]\n",
      " [3 4]]\n"
     ]
    }
   ],
   "source": [
    "# 배열 슬라이싱\n",
    "print(c[0, :2, :2]) # c 3차원 배열의 첫번째 차원에서 두번째 행까지의 두번째 열까지"
   ]
  },
  {
   "attachments": {},
   "cell_type": "markdown",
   "id": "dd3423d7",
   "metadata": {},
   "source": [
    "## 모양새 바꾸기"
   ]
  },
  {
   "cell_type": "code",
   "execution_count": 12,
   "id": "45ce459d",
   "metadata": {
    "scrolled": true
   },
   "outputs": [
    {
     "name": "stdout",
     "output_type": "stream",
     "text": [
      "[[0 1 2]\n",
      " [3 4 5]]\n"
     ]
    }
   ],
   "source": [
    "b = np.array([(0,1,2), (3,4,5)], dtype=\"uint8\") # 2차원 배열 2x3\n",
    "print(b)"
   ]
  },
  {
   "cell_type": "code",
   "execution_count": 13,
   "id": "b90643cd",
   "metadata": {},
   "outputs": [
    {
     "data": {
      "text/plain": [
       "array([[0, 1],\n",
       "       [2, 3],\n",
       "       [4, 5]], dtype=uint8)"
      ]
     },
     "execution_count": 13,
     "metadata": {},
     "output_type": "execute_result"
    }
   ],
   "source": [
    "# 배열을 모양을 변경\n",
    "b.reshape(3,2)"
   ]
  },
  {
   "attachments": {},
   "cell_type": "markdown",
   "id": "910928b2",
   "metadata": {},
   "source": [
    "## fancy indexing"
   ]
  },
  {
   "cell_type": "code",
   "execution_count": 14,
   "id": "a1084d2c",
   "metadata": {},
   "outputs": [
    {
     "data": {
      "text/plain": [
       "array([[[ 0,  1,  2],\n",
       "        [ 3,  4,  5]],\n",
       "\n",
       "       [[ 6,  7,  8],\n",
       "        [ 9, 10, 11]],\n",
       "\n",
       "       [[12, 13, 14],\n",
       "        [15, 16, 17]]], dtype=uint8)"
      ]
     },
     "execution_count": 14,
     "metadata": {},
     "output_type": "execute_result"
    }
   ],
   "source": [
    "import numpy as np\n",
    "\n",
    "fancy_arr = np.arange(3*3*2, dtype=\"uint8\")\n",
    "fancy_arr = fancy_arr.reshape(3,2,3)\n",
    "fancy_arr"
   ]
  },
  {
   "cell_type": "code",
   "execution_count": 15,
   "id": "60626e9c",
   "metadata": {},
   "outputs": [
    {
     "data": {
      "text/plain": [
       "array([[3, 4, 5]], dtype=uint8)"
      ]
     },
     "execution_count": 15,
     "metadata": {},
     "output_type": "execute_result"
    }
   ],
   "source": [
    "# fancy indexing\n",
    "# 1차원의 첫번째 요소에서 두번째 배열\n",
    "fancy_arr[[0],[1]]"
   ]
  },
  {
   "cell_type": "code",
   "execution_count": 16,
   "id": "692379d5",
   "metadata": {},
   "outputs": [
    {
     "data": {
      "text/plain": [
       "array([5, 4, 3], dtype=uint8)"
      ]
     },
     "execution_count": 16,
     "metadata": {},
     "output_type": "execute_result"
    }
   ],
   "source": [
    "fancy_arr[[0],[1],[2,1,0]]"
   ]
  },
  {
   "cell_type": "code",
   "execution_count": 17,
   "id": "530f4ca8",
   "metadata": {},
   "outputs": [
    {
     "data": {
      "text/plain": [
       "array([14, 13, 12], dtype=uint8)"
      ]
     },
     "execution_count": 17,
     "metadata": {},
     "output_type": "execute_result"
    }
   ],
   "source": [
    "fancy_arr[[-1],[0],[2,1,0]]"
   ]
  },
  {
   "attachments": {},
   "cell_type": "markdown",
   "id": "7e37c40f",
   "metadata": {},
   "source": [
    "## 배열 산술 연산"
   ]
  },
  {
   "cell_type": "code",
   "execution_count": 18,
   "id": "c192a174",
   "metadata": {},
   "outputs": [
    {
     "data": {
      "text/plain": [
       "array([[0.8672563 , 0.20611571, 0.97653586],\n",
       "       [0.68910415, 0.67174434, 0.06180195]])"
      ]
     },
     "execution_count": 18,
     "metadata": {},
     "output_type": "execute_result"
    }
   ],
   "source": [
    "# 배열 산술\n",
    "arr1 = np.random.rand(2,3)\n",
    "arr1"
   ]
  },
  {
   "cell_type": "code",
   "execution_count": 19,
   "id": "ad163426",
   "metadata": {},
   "outputs": [
    {
     "data": {
      "text/plain": [
       "array([[-0.26028744,  0.9972101 , -1.0604569 ],\n",
       "       [ 1.76113402, -0.75508207,  0.76489702]])"
      ]
     },
     "execution_count": 19,
     "metadata": {},
     "output_type": "execute_result"
    }
   ],
   "source": [
    "arr2 = np.random.randn(2,3)\n",
    "arr2"
   ]
  },
  {
   "cell_type": "code",
   "execution_count": 20,
   "id": "c7a6f908",
   "metadata": {},
   "outputs": [
    {
     "data": {
      "text/plain": [
       "array([[-0.22573592,  0.20554066, -1.03557419],\n",
       "       [ 1.21360476, -0.50722211,  0.04727213]])"
      ]
     },
     "execution_count": 20,
     "metadata": {},
     "output_type": "execute_result"
    }
   ],
   "source": [
    "arr3 = arr1 * arr2\n",
    "arr3"
   ]
  },
  {
   "cell_type": "code",
   "execution_count": 21,
   "id": "bd9d6dd1",
   "metadata": {},
   "outputs": [
    {
     "data": {
      "text/plain": [
       "array([[2., 2., 2.],\n",
       "       [2., 2., 2.]])"
      ]
     },
     "execution_count": 21,
     "metadata": {},
     "output_type": "execute_result"
    }
   ],
   "source": [
    "arr4 = np.ones((2,3)) * 2 # 모든 요소를 2로 곱함\n",
    "arr4"
   ]
  },
  {
   "cell_type": "code",
   "execution_count": 22,
   "id": "ca638e28",
   "metadata": {},
   "outputs": [
    {
     "data": {
      "text/plain": [
       "array([[0.06774955, 0.99442798, 1.12456885],\n",
       "       [3.10159305, 0.57014894, 0.58506746]])"
      ]
     },
     "execution_count": 22,
     "metadata": {},
     "output_type": "execute_result"
    }
   ],
   "source": [
    "arr2 ** 2 # 모든 요소 2로 거듭제곱"
   ]
  },
  {
   "attachments": {},
   "cell_type": "markdown",
   "id": "27dcdab1",
   "metadata": {},
   "source": [
    "##  배열 합치기 및 나누기"
   ]
  },
  {
   "cell_type": "code",
   "execution_count": 23,
   "id": "4198f9b0",
   "metadata": {},
   "outputs": [
    {
     "data": {
      "text/plain": [
       "array([[0, 1, 2],\n",
       "       [3, 4, 5],\n",
       "       [0, 1, 2],\n",
       "       [3, 4, 5]], dtype=uint8)"
      ]
     },
     "execution_count": 23,
     "metadata": {},
     "output_type": "execute_result"
    }
   ],
   "source": [
    "# 배열 합치기\n",
    "np.concatenate([b,b])"
   ]
  },
  {
   "cell_type": "code",
   "execution_count": 24,
   "id": "b07703bc",
   "metadata": {},
   "outputs": [
    {
     "data": {
      "text/plain": [
       "array([[0, 1, 2, 0, 1, 2],\n",
       "       [3, 4, 5, 3, 4, 5]], dtype=uint8)"
      ]
     },
     "execution_count": 24,
     "metadata": {},
     "output_type": "execute_result"
    }
   ],
   "source": [
    "# 배열 합치기(열기준)\n",
    "np.concatenate([b,b], axis=1)"
   ]
  },
  {
   "cell_type": "code",
   "execution_count": 25,
   "id": "79f5d06e",
   "metadata": {},
   "outputs": [
    {
     "data": {
      "text/plain": [
       "array([[ 0,  1,  2,  3],\n",
       "       [ 4,  5,  6,  7],\n",
       "       [10, 11, 12, 13],\n",
       "       [14, 15, 16, 17]], dtype=uint8)"
      ]
     },
     "execution_count": 25,
     "metadata": {},
     "output_type": "execute_result"
    }
   ],
   "source": [
    "a1 = np.array([(0,1,2,3), (4,5,6,7)] , dtype=\"uint8\") # 2차원 배열\n",
    "b1 = np.array([(10,11,12,13), (14,15,16,17)] , dtype=\"uint8\") # 2차원 배열\n",
    "\n",
    "# 행기준으로 합치기\n",
    "np.vstack((a1,b1))"
   ]
  },
  {
   "cell_type": "code",
   "execution_count": 26,
   "id": "1a5f61d1",
   "metadata": {},
   "outputs": [
    {
     "data": {
      "text/plain": [
       "array([[ 0,  1,  2,  3, 10, 11, 12, 13],\n",
       "       [ 4,  5,  6,  7, 14, 15, 16, 17]], dtype=uint8)"
      ]
     },
     "execution_count": 26,
     "metadata": {},
     "output_type": "execute_result"
    }
   ],
   "source": [
    "# 열기준으로 합치기\n",
    "np.hstack((a1,b1))"
   ]
  },
  {
   "cell_type": "code",
   "execution_count": 27,
   "id": "f7505514",
   "metadata": {
    "scrolled": true
   },
   "outputs": [
    {
     "data": {
      "text/plain": [
       "[array([[0, 1, 2, 3]], dtype=uint8), array([[4, 5, 6, 7]], dtype=uint8)]"
      ]
     },
     "execution_count": 27,
     "metadata": {},
     "output_type": "execute_result"
    }
   ],
   "source": [
    "b2 = np.array([(0,1,2,3), (4,5,6,7)] , dtype=\"uint8\") # 2차원 배열\n",
    "\n",
    "# 행기준으로 2부분 나누기\n",
    "np.split(b2,2)"
   ]
  },
  {
   "cell_type": "code",
   "execution_count": 28,
   "id": "0d668efb",
   "metadata": {
    "scrolled": true
   },
   "outputs": [
    {
     "data": {
      "text/plain": [
       "[array([[0, 1, 2, 3]], dtype=uint8), array([[4, 5, 6, 7]], dtype=uint8)]"
      ]
     },
     "execution_count": 28,
     "metadata": {},
     "output_type": "execute_result"
    }
   ],
   "source": [
    "# 행기준으로 2부분 나누기\n",
    "np.vsplit(b2,2)"
   ]
  },
  {
   "cell_type": "code",
   "execution_count": 29,
   "id": "9f8fc049",
   "metadata": {
    "scrolled": true
   },
   "outputs": [
    {
     "data": {
      "text/plain": [
       "[array([[0, 1],\n",
       "        [4, 5]], dtype=uint8),\n",
       " array([[2, 3],\n",
       "        [6, 7]], dtype=uint8)]"
      ]
     },
     "execution_count": 29,
     "metadata": {},
     "output_type": "execute_result"
    }
   ],
   "source": [
    "#열기준 2부분 나누기\n",
    "np.hsplit(b2,2)"
   ]
  },
  {
   "attachments": {},
   "cell_type": "markdown",
   "id": "eb44dbd2",
   "metadata": {},
   "source": [
    "## 조건문으로 배열 추출하기"
   ]
  },
  {
   "cell_type": "code",
   "execution_count": 30,
   "id": "ddf552e2",
   "metadata": {},
   "outputs": [
    {
     "data": {
      "text/plain": [
       "array([[0.05599537, 4.40283434, 0.26912427],\n",
       "       [0.41578299, 0.03574639, 0.91715461]])"
      ]
     },
     "execution_count": 30,
     "metadata": {},
     "output_type": "execute_result"
    }
   ],
   "source": [
    "arr1 = np.random.rand(2,3)\n",
    "arr2 = np.random.randn(2,3)\n",
    "arr2 = arr2 ** 2\n",
    "\n",
    "arr2"
   ]
  },
  {
   "cell_type": "code",
   "execution_count": 31,
   "id": "1de13492",
   "metadata": {
    "scrolled": true
   },
   "outputs": [
    {
     "data": {
      "text/plain": [
       "array([4.40283434])"
      ]
     },
     "execution_count": 31,
     "metadata": {},
     "output_type": "execute_result"
    }
   ],
   "source": [
    "# 조건, arr2 배열 요소 가운데 1보다 큰 수만 추출\n",
    "arr2[ arr2 > 1]"
   ]
  },
  {
   "cell_type": "code",
   "execution_count": 32,
   "id": "2593e590",
   "metadata": {},
   "outputs": [
    {
     "data": {
      "text/plain": [
       "(array([0], dtype=int64), array([1], dtype=int64))"
      ]
     },
     "execution_count": 32,
     "metadata": {},
     "output_type": "execute_result"
    }
   ],
   "source": [
    "# 조건에 부합하는 인덱스\n",
    "np.where( arr2 > 1)"
   ]
  },
  {
   "cell_type": "code",
   "execution_count": 33,
   "id": "80ead0ff",
   "metadata": {
    "scrolled": true
   },
   "outputs": [
    {
     "data": {
      "text/plain": [
       "array([['0.2106373102024346', 'Yes', '0.7361306867744529'],\n",
       "       ['0.5913212849864589', '0.7024440577978812',\n",
       "        '0.03819080961205423']], dtype='<U32')"
      ]
     },
     "execution_count": 33,
     "metadata": {},
     "output_type": "execute_result"
    }
   ],
   "source": [
    "# 조건에 부합하면 ‘Yes’를 출력\n",
    "np.where( arr2 > 1, 'Yes', arr1)"
   ]
  }
 ],
 "metadata": {
  "kernelspec": {
   "display_name": "Python 3",
   "language": "python",
   "name": "python3"
  },
  "language_info": {
   "codemirror_mode": {
    "name": "ipython",
    "version": 3
   },
   "file_extension": ".py",
   "mimetype": "text/x-python",
   "name": "python",
   "nbconvert_exporter": "python",
   "pygments_lexer": "ipython3",
   "version": "3.10.4"
  }
 },
 "nbformat": 4,
 "nbformat_minor": 5
}
