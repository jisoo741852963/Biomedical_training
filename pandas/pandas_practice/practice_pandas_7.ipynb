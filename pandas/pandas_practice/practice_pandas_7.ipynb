{
  "cells": [
    {
      "cell_type": "markdown",
      "metadata": {
        "id": "vN2D9cmLHZ3_"
      },
      "source": [
        "# (실습) 데이터 그룹화"
      ]
    },
    {
      "cell_type": "markdown",
      "metadata": {
        "id": "ADuANSjzXJho"
      },
      "source": [
        "넘파이와 판다스 기본 설정"
      ]
    },
    {
      "cell_type": "code",
      "execution_count": null,
      "metadata": {
        "id": "KGT9JIjjXJho"
      },
      "outputs": [],
      "source": [
        "import numpy as np\n",
        "import pandas as pd\n",
        "\n",
        "np.set_printoptions(precision=6, suppress=True)\n",
        "PREVIOUS_MAX_ROWS = pd.options.display.max_rows # 원래 60이 기본.\n",
        "pd.options.display.max_rows = 20"
      ]
    },
    {
      "cell_type": "markdown",
      "metadata": {
        "id": "5lVdKCE7XJhp"
      },
      "source": [
        "**문제 1**"
      ]
    },
    {
      "cell_type": "markdown",
      "metadata": {
        "id": "LIM38em7XJhp"
      },
      "source": [
        "아래 그림은 붓꽃 데이터셋에서 품종별 5개의 샘플에 대해\n",
        "네 가지 특성(꽃받침의 길이와 너비, 꽃잎의 길이와 너비)의 평균값을 계산해서\n",
        "새로운 데이터프레임을 생성하기 위해 밟아야 하는\n",
        "쪼개고, 적용하고, 조합하는 과정을 보여준다.\n",
        "이 과정을 붓꽃 전체 데이터셋을 대상으로 직접 실행하는 코드를 작성하라.\n",
        "\n",
        "<div align=\"center\" border=\"1px\"><img src=\"https://raw.githubusercontent.com/codingalzi/datapy/master/jupyter-book/images/split-apply-combine02.png\" style=\"width:90%;\"></div>\n",
        "\n",
        "<p><div style=\"text-align: center\">&lt;그림 출처: <a href=\"https://irresistable89.blogspot.com/2020/05/pandas-groupby-sort-top-n.html\">Pandas Groupby Sort Top N</a>&gt;</div></p>"
      ]
    },
    {
      "cell_type": "markdown",
      "metadata": {
        "id": "PHQd-TEuXJhp"
      },
      "source": [
        "모범답안"
      ]
    },
    {
      "cell_type": "markdown",
      "metadata": {
        "id": "aDNbBOeEXJhp"
      },
      "source": [
        "아래 코드는 인터넷 데이터 저장소로부터 아이리스(붓꽃) 데이터(`iris.data`)를\n",
        "2차원 넘파이 어레이로 불러온다."
      ]
    },
    {
      "cell_type": "code",
      "execution_count": null,
      "metadata": {
        "id": "vMFCUZdZXJhp"
      },
      "outputs": [],
      "source": [
        "# 아이리스(붓꽃) 데이터 불러오기\n",
        "url = 'https://archive.ics.uci.edu/ml/machine-learning-databases/iris/iris.data'\n",
        "iris = np.genfromtxt(url, delimiter=',', dtype='str')"
      ]
    },
    {
      "cell_type": "markdown",
      "metadata": {
        "id": "9m8JM71sXJhq"
      },
      "source": [
        "`iris.data` 파일에는 아래 형식의 데이터가 150개 들어 있다.\n",
        "\n",
        "```python\n",
        "5.1,3.5,1.4,0.2,Iris-setosa\n",
        "```\n",
        "\n",
        "하나의 데이터에 사용된 값들은 하나의 아이리스(붓꽃)에 대한 꽃잎, 꽃받침과 관련된 특성(features)과 품종을 나타내며,\n",
        "보다 구체적으로 아래 순서를 따른다.\n",
        "\n",
        "```\n",
        "꽃받침 길이, 꽃받침 너비, 꽃잎 길이, 꽃잎 너비, 품종\n",
        "```"
      ]
    },
    {
      "cell_type": "code",
      "execution_count": null,
      "metadata": {
        "id": "NEh041aHXJhq",
        "outputId": "3bd71422-3bb7-499d-b727-59de0b0803dd"
      },
      "outputs": [
        {
          "data": {
            "text/plain": [
              "numpy.ndarray"
            ]
          },
          "execution_count": 3,
          "metadata": {},
          "output_type": "execute_result"
        }
      ],
      "source": [
        "type(iris)"
      ]
    },
    {
      "cell_type": "code",
      "execution_count": null,
      "metadata": {
        "id": "BLpTNi1IXJhq",
        "outputId": "3f2bd776-b94f-4de9-ffec-8e95244dcb8a"
      },
      "outputs": [
        {
          "data": {
            "text/plain": [
              "(150, 5)"
            ]
          },
          "execution_count": 4,
          "metadata": {},
          "output_type": "execute_result"
        }
      ],
      "source": [
        "iris.shape"
      ]
    },
    {
      "cell_type": "markdown",
      "metadata": {
        "id": "QoEN0tlbXJhq"
      },
      "source": [
        "길이와 너비를 저장하는 특성들은 숫자로 저장되어 있었지만 위 코드는 문자열로 저장된 품종 특성과의 자료형을 통일시키기 위해\n",
        "모두 문자열 자료형으로 불러왔다.\n",
        "처음 5개 데이터를 확인하면 다음과 같다.\n",
        "\n",
        "__참고:__ `'<U15'`는 길이가 최대 15인 유니코드 문자열 자료형을 나타낸다."
      ]
    },
    {
      "cell_type": "code",
      "execution_count": null,
      "metadata": {
        "id": "ipxJpFRMXJhr",
        "outputId": "8f0aad29-d1bd-47c2-d44d-65b043ff8e5c"
      },
      "outputs": [
        {
          "data": {
            "text/plain": [
              "array([['5.1', '3.5', '1.4', '0.2', 'Iris-setosa'],\n",
              "       ['4.9', '3.0', '1.4', '0.2', 'Iris-setosa'],\n",
              "       ['4.7', '3.2', '1.3', '0.2', 'Iris-setosa'],\n",
              "       ['4.6', '3.1', '1.5', '0.2', 'Iris-setosa'],\n",
              "       ['5.0', '3.6', '1.4', '0.2', 'Iris-setosa']], dtype='<U15')"
            ]
          },
          "execution_count": 5,
          "metadata": {},
          "output_type": "execute_result"
        }
      ],
      "source": [
        "iris[:5]"
      ]
    },
    {
      "cell_type": "markdown",
      "metadata": {
        "id": "GHBHt5cyXJhr"
      },
      "source": [
        "두 어레이를 판다스의 데이터프레임으로 형변환한다.\n",
        "이때 각 열의 이름을 사용된 데이터 특성을 반영하도록 지정한다."
      ]
    },
    {
      "cell_type": "code",
      "execution_count": null,
      "metadata": {
        "id": "9_PtqDDuXJhr",
        "outputId": "274876e9-8439-4d24-8524-11ce82ee2017"
      },
      "outputs": [
        {
          "data": {
            "text/html": [
              "<div>\n",
              "<style scoped>\n",
              "    .dataframe tbody tr th:only-of-type {\n",
              "        vertical-align: middle;\n",
              "    }\n",
              "\n",
              "    .dataframe tbody tr th {\n",
              "        vertical-align: top;\n",
              "    }\n",
              "\n",
              "    .dataframe thead th {\n",
              "        text-align: right;\n",
              "    }\n",
              "</style>\n",
              "<table border=\"1\" class=\"dataframe\">\n",
              "  <thead>\n",
              "    <tr style=\"text-align: right;\">\n",
              "      <th></th>\n",
              "      <th>꽃받침길이</th>\n",
              "      <th>꽃받침너비</th>\n",
              "      <th>꽃잎길이</th>\n",
              "      <th>꽃잎너비</th>\n",
              "      <th>품종</th>\n",
              "    </tr>\n",
              "  </thead>\n",
              "  <tbody>\n",
              "    <tr>\n",
              "      <th>0</th>\n",
              "      <td>5.1</td>\n",
              "      <td>3.5</td>\n",
              "      <td>1.4</td>\n",
              "      <td>0.2</td>\n",
              "      <td>Iris-setosa</td>\n",
              "    </tr>\n",
              "    <tr>\n",
              "      <th>1</th>\n",
              "      <td>4.9</td>\n",
              "      <td>3.0</td>\n",
              "      <td>1.4</td>\n",
              "      <td>0.2</td>\n",
              "      <td>Iris-setosa</td>\n",
              "    </tr>\n",
              "    <tr>\n",
              "      <th>2</th>\n",
              "      <td>4.7</td>\n",
              "      <td>3.2</td>\n",
              "      <td>1.3</td>\n",
              "      <td>0.2</td>\n",
              "      <td>Iris-setosa</td>\n",
              "    </tr>\n",
              "    <tr>\n",
              "      <th>3</th>\n",
              "      <td>4.6</td>\n",
              "      <td>3.1</td>\n",
              "      <td>1.5</td>\n",
              "      <td>0.2</td>\n",
              "      <td>Iris-setosa</td>\n",
              "    </tr>\n",
              "    <tr>\n",
              "      <th>4</th>\n",
              "      <td>5.0</td>\n",
              "      <td>3.6</td>\n",
              "      <td>1.4</td>\n",
              "      <td>0.2</td>\n",
              "      <td>Iris-setosa</td>\n",
              "    </tr>\n",
              "  </tbody>\n",
              "</table>\n",
              "</div>"
            ],
            "text/plain": [
              "  꽃받침길이 꽃받침너비 꽃잎길이 꽃잎너비           품종\n",
              "0   5.1   3.5  1.4  0.2  Iris-setosa\n",
              "1   4.9   3.0  1.4  0.2  Iris-setosa\n",
              "2   4.7   3.2  1.3  0.2  Iris-setosa\n",
              "3   4.6   3.1  1.5  0.2  Iris-setosa\n",
              "4   5.0   3.6  1.4  0.2  Iris-setosa"
            ]
          },
          "execution_count": 6,
          "metadata": {},
          "output_type": "execute_result"
        }
      ],
      "source": [
        "columns = ['꽃받침길이', '꽃받침너비', '꽃잎길이', '꽃잎너비', '품종']\n",
        "iris = pd.DataFrame(iris, columns=columns)\n",
        "iris[:5]"
      ]
    },
    {
      "cell_type": "markdown",
      "metadata": {
        "id": "FfFYn5vbXJhr"
      },
      "source": [
        "모든 값이 문자열로 지정되어 있다."
      ]
    },
    {
      "cell_type": "code",
      "execution_count": null,
      "metadata": {
        "id": "19ruYalPXJhr",
        "outputId": "148bbb74-045a-4084-f145-65b8604e93c7"
      },
      "outputs": [
        {
          "name": "stdout",
          "output_type": "stream",
          "text": [
            "<class 'pandas.core.frame.DataFrame'>\n",
            "RangeIndex: 150 entries, 0 to 149\n",
            "Data columns (total 5 columns):\n",
            " #   Column  Non-Null Count  Dtype \n",
            "---  ------  --------------  ----- \n",
            " 0   꽃받침길이   150 non-null    object\n",
            " 1   꽃받침너비   150 non-null    object\n",
            " 2   꽃잎길이    150 non-null    object\n",
            " 3   꽃잎너비    150 non-null    object\n",
            " 4   품종      150 non-null    object\n",
            "dtypes: object(5)\n",
            "memory usage: 6.0+ KB\n"
          ]
        }
      ],
      "source": [
        "iris.info()"
      ]
    },
    {
      "cell_type": "markdown",
      "metadata": {
        "id": "BjsaGXIqXJhr"
      },
      "source": [
        "품종을 제외한 열은 모두 부동소수점 자료형으로 변환한다."
      ]
    },
    {
      "cell_type": "code",
      "execution_count": null,
      "metadata": {
        "id": "JLb_c-MAXJhr",
        "outputId": "5e9c9f61-73e1-4cc0-d51f-1a539fc98e9b"
      },
      "outputs": [
        {
          "name": "stdout",
          "output_type": "stream",
          "text": [
            "<class 'pandas.core.frame.DataFrame'>\n",
            "RangeIndex: 150 entries, 0 to 149\n",
            "Data columns (total 5 columns):\n",
            " #   Column  Non-Null Count  Dtype  \n",
            "---  ------  --------------  -----  \n",
            " 0   꽃받침길이   150 non-null    float64\n",
            " 1   꽃받침너비   150 non-null    float64\n",
            " 2   꽃잎길이    150 non-null    float64\n",
            " 3   꽃잎너비    150 non-null    float64\n",
            " 4   품종      150 non-null    object \n",
            "dtypes: float64(4), object(1)\n",
            "memory usage: 6.0+ KB\n"
          ]
        }
      ],
      "source": [
        "iris = iris.astype({'꽃받침길이': 'float64', '꽃받침너비': 'float64', '꽃잎길이': 'float64', '꽃잎너비': 'float64'})\n",
        "iris.info()"
      ]
    },
    {
      "cell_type": "markdown",
      "metadata": {
        "id": "lAyq92-KXJhr"
      },
      "source": [
        "열 인덱스의 라벨을 영어로 변환한다."
      ]
    },
    {
      "cell_type": "code",
      "execution_count": null,
      "metadata": {
        "id": "yfsMC0-7XJhr"
      },
      "outputs": [],
      "source": [
        "eng_dict = {'꽃받침길이': 'sepal_length',\n",
        "            '꽃받침너비': 'sepal_width',\n",
        "            '꽃잎길이': 'petal_length',\n",
        "            '꽃잎너비': 'petal_width',\n",
        "            '품종': 'species'}"
      ]
    },
    {
      "cell_type": "code",
      "execution_count": null,
      "metadata": {
        "id": "fM6jOntOXJhs",
        "outputId": "322a12c9-821a-4da6-821f-444b7cd39c15"
      },
      "outputs": [
        {
          "data": {
            "text/html": [
              "<div>\n",
              "<style scoped>\n",
              "    .dataframe tbody tr th:only-of-type {\n",
              "        vertical-align: middle;\n",
              "    }\n",
              "\n",
              "    .dataframe tbody tr th {\n",
              "        vertical-align: top;\n",
              "    }\n",
              "\n",
              "    .dataframe thead th {\n",
              "        text-align: right;\n",
              "    }\n",
              "</style>\n",
              "<table border=\"1\" class=\"dataframe\">\n",
              "  <thead>\n",
              "    <tr style=\"text-align: right;\">\n",
              "      <th></th>\n",
              "      <th>sepal_length</th>\n",
              "      <th>sepal_width</th>\n",
              "      <th>petal_length</th>\n",
              "      <th>petal_width</th>\n",
              "      <th>species</th>\n",
              "    </tr>\n",
              "  </thead>\n",
              "  <tbody>\n",
              "    <tr>\n",
              "      <th>0</th>\n",
              "      <td>5.1</td>\n",
              "      <td>3.5</td>\n",
              "      <td>1.4</td>\n",
              "      <td>0.2</td>\n",
              "      <td>Iris-setosa</td>\n",
              "    </tr>\n",
              "    <tr>\n",
              "      <th>1</th>\n",
              "      <td>4.9</td>\n",
              "      <td>3.0</td>\n",
              "      <td>1.4</td>\n",
              "      <td>0.2</td>\n",
              "      <td>Iris-setosa</td>\n",
              "    </tr>\n",
              "    <tr>\n",
              "      <th>2</th>\n",
              "      <td>4.7</td>\n",
              "      <td>3.2</td>\n",
              "      <td>1.3</td>\n",
              "      <td>0.2</td>\n",
              "      <td>Iris-setosa</td>\n",
              "    </tr>\n",
              "    <tr>\n",
              "      <th>3</th>\n",
              "      <td>4.6</td>\n",
              "      <td>3.1</td>\n",
              "      <td>1.5</td>\n",
              "      <td>0.2</td>\n",
              "      <td>Iris-setosa</td>\n",
              "    </tr>\n",
              "    <tr>\n",
              "      <th>4</th>\n",
              "      <td>5.0</td>\n",
              "      <td>3.6</td>\n",
              "      <td>1.4</td>\n",
              "      <td>0.2</td>\n",
              "      <td>Iris-setosa</td>\n",
              "    </tr>\n",
              "    <tr>\n",
              "      <th>...</th>\n",
              "      <td>...</td>\n",
              "      <td>...</td>\n",
              "      <td>...</td>\n",
              "      <td>...</td>\n",
              "      <td>...</td>\n",
              "    </tr>\n",
              "    <tr>\n",
              "      <th>145</th>\n",
              "      <td>6.7</td>\n",
              "      <td>3.0</td>\n",
              "      <td>5.2</td>\n",
              "      <td>2.3</td>\n",
              "      <td>Iris-virginica</td>\n",
              "    </tr>\n",
              "    <tr>\n",
              "      <th>146</th>\n",
              "      <td>6.3</td>\n",
              "      <td>2.5</td>\n",
              "      <td>5.0</td>\n",
              "      <td>1.9</td>\n",
              "      <td>Iris-virginica</td>\n",
              "    </tr>\n",
              "    <tr>\n",
              "      <th>147</th>\n",
              "      <td>6.5</td>\n",
              "      <td>3.0</td>\n",
              "      <td>5.2</td>\n",
              "      <td>2.0</td>\n",
              "      <td>Iris-virginica</td>\n",
              "    </tr>\n",
              "    <tr>\n",
              "      <th>148</th>\n",
              "      <td>6.2</td>\n",
              "      <td>3.4</td>\n",
              "      <td>5.4</td>\n",
              "      <td>2.3</td>\n",
              "      <td>Iris-virginica</td>\n",
              "    </tr>\n",
              "    <tr>\n",
              "      <th>149</th>\n",
              "      <td>5.9</td>\n",
              "      <td>3.0</td>\n",
              "      <td>5.1</td>\n",
              "      <td>1.8</td>\n",
              "      <td>Iris-virginica</td>\n",
              "    </tr>\n",
              "  </tbody>\n",
              "</table>\n",
              "<p>150 rows × 5 columns</p>\n",
              "</div>"
            ],
            "text/plain": [
              "     sepal_length  sepal_width  petal_length  petal_width         species\n",
              "0             5.1          3.5           1.4          0.2     Iris-setosa\n",
              "1             4.9          3.0           1.4          0.2     Iris-setosa\n",
              "2             4.7          3.2           1.3          0.2     Iris-setosa\n",
              "3             4.6          3.1           1.5          0.2     Iris-setosa\n",
              "4             5.0          3.6           1.4          0.2     Iris-setosa\n",
              "..            ...          ...           ...          ...             ...\n",
              "145           6.7          3.0           5.2          2.3  Iris-virginica\n",
              "146           6.3          2.5           5.0          1.9  Iris-virginica\n",
              "147           6.5          3.0           5.2          2.0  Iris-virginica\n",
              "148           6.2          3.4           5.4          2.3  Iris-virginica\n",
              "149           5.9          3.0           5.1          1.8  Iris-virginica\n",
              "\n",
              "[150 rows x 5 columns]"
            ]
          },
          "execution_count": 10,
          "metadata": {},
          "output_type": "execute_result"
        }
      ],
      "source": [
        "iris.rename(columns=eng_dict, inplace=True)\n",
        "iris"
      ]
    },
    {
      "cell_type": "markdown",
      "metadata": {
        "id": "eWVtxQdVXJhs"
      },
      "source": [
        "`species` 라벨을 맨 앞으로 위치시킨다."
      ]
    },
    {
      "cell_type": "code",
      "execution_count": null,
      "metadata": {
        "id": "tpyp0y0oXJhs",
        "outputId": "0b4081e2-265d-4da8-8ded-e5df67b8c3fc"
      },
      "outputs": [
        {
          "data": {
            "text/html": [
              "<div>\n",
              "<style scoped>\n",
              "    .dataframe tbody tr th:only-of-type {\n",
              "        vertical-align: middle;\n",
              "    }\n",
              "\n",
              "    .dataframe tbody tr th {\n",
              "        vertical-align: top;\n",
              "    }\n",
              "\n",
              "    .dataframe thead th {\n",
              "        text-align: right;\n",
              "    }\n",
              "</style>\n",
              "<table border=\"1\" class=\"dataframe\">\n",
              "  <thead>\n",
              "    <tr style=\"text-align: right;\">\n",
              "      <th></th>\n",
              "      <th>species</th>\n",
              "      <th>sepal_length</th>\n",
              "      <th>sepal_width</th>\n",
              "      <th>petal_length</th>\n",
              "      <th>petal_width</th>\n",
              "    </tr>\n",
              "  </thead>\n",
              "  <tbody>\n",
              "    <tr>\n",
              "      <th>0</th>\n",
              "      <td>Iris-setosa</td>\n",
              "      <td>5.1</td>\n",
              "      <td>3.5</td>\n",
              "      <td>1.4</td>\n",
              "      <td>0.2</td>\n",
              "    </tr>\n",
              "    <tr>\n",
              "      <th>1</th>\n",
              "      <td>Iris-setosa</td>\n",
              "      <td>4.9</td>\n",
              "      <td>3.0</td>\n",
              "      <td>1.4</td>\n",
              "      <td>0.2</td>\n",
              "    </tr>\n",
              "    <tr>\n",
              "      <th>2</th>\n",
              "      <td>Iris-setosa</td>\n",
              "      <td>4.7</td>\n",
              "      <td>3.2</td>\n",
              "      <td>1.3</td>\n",
              "      <td>0.2</td>\n",
              "    </tr>\n",
              "    <tr>\n",
              "      <th>3</th>\n",
              "      <td>Iris-setosa</td>\n",
              "      <td>4.6</td>\n",
              "      <td>3.1</td>\n",
              "      <td>1.5</td>\n",
              "      <td>0.2</td>\n",
              "    </tr>\n",
              "    <tr>\n",
              "      <th>4</th>\n",
              "      <td>Iris-setosa</td>\n",
              "      <td>5.0</td>\n",
              "      <td>3.6</td>\n",
              "      <td>1.4</td>\n",
              "      <td>0.2</td>\n",
              "    </tr>\n",
              "    <tr>\n",
              "      <th>...</th>\n",
              "      <td>...</td>\n",
              "      <td>...</td>\n",
              "      <td>...</td>\n",
              "      <td>...</td>\n",
              "      <td>...</td>\n",
              "    </tr>\n",
              "    <tr>\n",
              "      <th>145</th>\n",
              "      <td>Iris-virginica</td>\n",
              "      <td>6.7</td>\n",
              "      <td>3.0</td>\n",
              "      <td>5.2</td>\n",
              "      <td>2.3</td>\n",
              "    </tr>\n",
              "    <tr>\n",
              "      <th>146</th>\n",
              "      <td>Iris-virginica</td>\n",
              "      <td>6.3</td>\n",
              "      <td>2.5</td>\n",
              "      <td>5.0</td>\n",
              "      <td>1.9</td>\n",
              "    </tr>\n",
              "    <tr>\n",
              "      <th>147</th>\n",
              "      <td>Iris-virginica</td>\n",
              "      <td>6.5</td>\n",
              "      <td>3.0</td>\n",
              "      <td>5.2</td>\n",
              "      <td>2.0</td>\n",
              "    </tr>\n",
              "    <tr>\n",
              "      <th>148</th>\n",
              "      <td>Iris-virginica</td>\n",
              "      <td>6.2</td>\n",
              "      <td>3.4</td>\n",
              "      <td>5.4</td>\n",
              "      <td>2.3</td>\n",
              "    </tr>\n",
              "    <tr>\n",
              "      <th>149</th>\n",
              "      <td>Iris-virginica</td>\n",
              "      <td>5.9</td>\n",
              "      <td>3.0</td>\n",
              "      <td>5.1</td>\n",
              "      <td>1.8</td>\n",
              "    </tr>\n",
              "  </tbody>\n",
              "</table>\n",
              "<p>150 rows × 5 columns</p>\n",
              "</div>"
            ],
            "text/plain": [
              "            species  sepal_length  sepal_width  petal_length  petal_width\n",
              "0       Iris-setosa           5.1          3.5           1.4          0.2\n",
              "1       Iris-setosa           4.9          3.0           1.4          0.2\n",
              "2       Iris-setosa           4.7          3.2           1.3          0.2\n",
              "3       Iris-setosa           4.6          3.1           1.5          0.2\n",
              "4       Iris-setosa           5.0          3.6           1.4          0.2\n",
              "..              ...           ...          ...           ...          ...\n",
              "145  Iris-virginica           6.7          3.0           5.2          2.3\n",
              "146  Iris-virginica           6.3          2.5           5.0          1.9\n",
              "147  Iris-virginica           6.5          3.0           5.2          2.0\n",
              "148  Iris-virginica           6.2          3.4           5.4          2.3\n",
              "149  Iris-virginica           5.9          3.0           5.1          1.8\n",
              "\n",
              "[150 rows x 5 columns]"
            ]
          },
          "execution_count": 11,
          "metadata": {},
          "output_type": "execute_result"
        }
      ],
      "source": [
        "iris = iris.reindex(columns=['species', 'sepal_length', 'sepal_width', 'petal_length', 'petal_width'])\n",
        "iris"
      ]
    },
    {
      "cell_type": "markdown",
      "metadata": {
        "id": "X9a4s3ugXJhs"
      },
      "source": [
        "이제 아래 그림 내용을 실행할 수 있다."
      ]
    },
    {
      "cell_type": "markdown",
      "metadata": {
        "id": "Nlb0Q52cXJhs"
      },
      "source": [
        "<div align=\"center\" border=\"1px\"><img src=\"https://raw.githubusercontent.com/codingalzi/datapy/master/jupyter-book/images/split-apply-combine02.png\" style=\"width:90%;\"></div>"
      ]
    },
    {
      "cell_type": "markdown",
      "metadata": {
        "id": "QtBmJYAMXJhs"
      },
      "source": [
        "먼저 품종별로 처음 5개의 항목을 구성된 데이터프레임을 생성한다."
      ]
    },
    {
      "cell_type": "code",
      "execution_count": null,
      "metadata": {
        "id": "ZkYLOMDnXJhs",
        "outputId": "ccc18186-abe9-40d9-e7ec-f31663a00660"
      },
      "outputs": [
        {
          "data": {
            "text/html": [
              "<div>\n",
              "<style scoped>\n",
              "    .dataframe tbody tr th:only-of-type {\n",
              "        vertical-align: middle;\n",
              "    }\n",
              "\n",
              "    .dataframe tbody tr th {\n",
              "        vertical-align: top;\n",
              "    }\n",
              "\n",
              "    .dataframe thead th {\n",
              "        text-align: right;\n",
              "    }\n",
              "</style>\n",
              "<table border=\"1\" class=\"dataframe\">\n",
              "  <thead>\n",
              "    <tr style=\"text-align: right;\">\n",
              "      <th></th>\n",
              "      <th>species</th>\n",
              "      <th>sepal_length</th>\n",
              "      <th>sepal_width</th>\n",
              "      <th>petal_length</th>\n",
              "      <th>petal_width</th>\n",
              "    </tr>\n",
              "  </thead>\n",
              "  <tbody>\n",
              "    <tr>\n",
              "      <th>0</th>\n",
              "      <td>Iris-setosa</td>\n",
              "      <td>5.1</td>\n",
              "      <td>3.5</td>\n",
              "      <td>1.4</td>\n",
              "      <td>0.2</td>\n",
              "    </tr>\n",
              "    <tr>\n",
              "      <th>1</th>\n",
              "      <td>Iris-setosa</td>\n",
              "      <td>4.9</td>\n",
              "      <td>3.0</td>\n",
              "      <td>1.4</td>\n",
              "      <td>0.2</td>\n",
              "    </tr>\n",
              "    <tr>\n",
              "      <th>2</th>\n",
              "      <td>Iris-setosa</td>\n",
              "      <td>4.7</td>\n",
              "      <td>3.2</td>\n",
              "      <td>1.3</td>\n",
              "      <td>0.2</td>\n",
              "    </tr>\n",
              "    <tr>\n",
              "      <th>3</th>\n",
              "      <td>Iris-setosa</td>\n",
              "      <td>4.6</td>\n",
              "      <td>3.1</td>\n",
              "      <td>1.5</td>\n",
              "      <td>0.2</td>\n",
              "    </tr>\n",
              "    <tr>\n",
              "      <th>4</th>\n",
              "      <td>Iris-setosa</td>\n",
              "      <td>5.0</td>\n",
              "      <td>3.6</td>\n",
              "      <td>1.4</td>\n",
              "      <td>0.2</td>\n",
              "    </tr>\n",
              "    <tr>\n",
              "      <th>50</th>\n",
              "      <td>Iris-versicolor</td>\n",
              "      <td>7.0</td>\n",
              "      <td>3.2</td>\n",
              "      <td>4.7</td>\n",
              "      <td>1.4</td>\n",
              "    </tr>\n",
              "    <tr>\n",
              "      <th>51</th>\n",
              "      <td>Iris-versicolor</td>\n",
              "      <td>6.4</td>\n",
              "      <td>3.2</td>\n",
              "      <td>4.5</td>\n",
              "      <td>1.5</td>\n",
              "    </tr>\n",
              "    <tr>\n",
              "      <th>52</th>\n",
              "      <td>Iris-versicolor</td>\n",
              "      <td>6.9</td>\n",
              "      <td>3.1</td>\n",
              "      <td>4.9</td>\n",
              "      <td>1.5</td>\n",
              "    </tr>\n",
              "    <tr>\n",
              "      <th>53</th>\n",
              "      <td>Iris-versicolor</td>\n",
              "      <td>5.5</td>\n",
              "      <td>2.3</td>\n",
              "      <td>4.0</td>\n",
              "      <td>1.3</td>\n",
              "    </tr>\n",
              "    <tr>\n",
              "      <th>54</th>\n",
              "      <td>Iris-versicolor</td>\n",
              "      <td>6.5</td>\n",
              "      <td>2.8</td>\n",
              "      <td>4.6</td>\n",
              "      <td>1.5</td>\n",
              "    </tr>\n",
              "    <tr>\n",
              "      <th>100</th>\n",
              "      <td>Iris-virginica</td>\n",
              "      <td>6.3</td>\n",
              "      <td>3.3</td>\n",
              "      <td>6.0</td>\n",
              "      <td>2.5</td>\n",
              "    </tr>\n",
              "    <tr>\n",
              "      <th>101</th>\n",
              "      <td>Iris-virginica</td>\n",
              "      <td>5.8</td>\n",
              "      <td>2.7</td>\n",
              "      <td>5.1</td>\n",
              "      <td>1.9</td>\n",
              "    </tr>\n",
              "    <tr>\n",
              "      <th>102</th>\n",
              "      <td>Iris-virginica</td>\n",
              "      <td>7.1</td>\n",
              "      <td>3.0</td>\n",
              "      <td>5.9</td>\n",
              "      <td>2.1</td>\n",
              "    </tr>\n",
              "    <tr>\n",
              "      <th>103</th>\n",
              "      <td>Iris-virginica</td>\n",
              "      <td>6.3</td>\n",
              "      <td>2.9</td>\n",
              "      <td>5.6</td>\n",
              "      <td>1.8</td>\n",
              "    </tr>\n",
              "    <tr>\n",
              "      <th>104</th>\n",
              "      <td>Iris-virginica</td>\n",
              "      <td>6.5</td>\n",
              "      <td>3.0</td>\n",
              "      <td>5.8</td>\n",
              "      <td>2.2</td>\n",
              "    </tr>\n",
              "  </tbody>\n",
              "</table>\n",
              "</div>"
            ],
            "text/plain": [
              "             species  sepal_length  sepal_width  petal_length  petal_width\n",
              "0        Iris-setosa           5.1          3.5           1.4          0.2\n",
              "1        Iris-setosa           4.9          3.0           1.4          0.2\n",
              "2        Iris-setosa           4.7          3.2           1.3          0.2\n",
              "3        Iris-setosa           4.6          3.1           1.5          0.2\n",
              "4        Iris-setosa           5.0          3.6           1.4          0.2\n",
              "50   Iris-versicolor           7.0          3.2           4.7          1.4\n",
              "51   Iris-versicolor           6.4          3.2           4.5          1.5\n",
              "52   Iris-versicolor           6.9          3.1           4.9          1.5\n",
              "53   Iris-versicolor           5.5          2.3           4.0          1.3\n",
              "54   Iris-versicolor           6.5          2.8           4.6          1.5\n",
              "100   Iris-virginica           6.3          3.3           6.0          2.5\n",
              "101   Iris-virginica           5.8          2.7           5.1          1.9\n",
              "102   Iris-virginica           7.1          3.0           5.9          2.1\n",
              "103   Iris-virginica           6.3          2.9           5.6          1.8\n",
              "104   Iris-virginica           6.5          3.0           5.8          2.2"
            ]
          },
          "execution_count": 12,
          "metadata": {},
          "output_type": "execute_result"
        }
      ],
      "source": [
        "iris_5 = pd.DataFrame()\n",
        "\n",
        "for i in range(0, 101, 50):\n",
        "    iris_5 = pd.concat([iris_5, iris.iloc[i:i+5]])\n",
        "\n",
        "iris_5"
      ]
    },
    {
      "cell_type": "markdown",
      "metadata": {
        "id": "98nlusqcXJhs"
      },
      "source": [
        "이제 품종별로 그룹화한 다음에 열별 값들의 합을 계산한다."
      ]
    },
    {
      "cell_type": "code",
      "execution_count": null,
      "metadata": {
        "id": "KyckTg1xXJhs",
        "outputId": "2002b53b-95b3-4fbd-aca0-92d1cdd0dd5c"
      },
      "outputs": [
        {
          "data": {
            "text/html": [
              "<div>\n",
              "<style scoped>\n",
              "    .dataframe tbody tr th:only-of-type {\n",
              "        vertical-align: middle;\n",
              "    }\n",
              "\n",
              "    .dataframe tbody tr th {\n",
              "        vertical-align: top;\n",
              "    }\n",
              "\n",
              "    .dataframe thead th {\n",
              "        text-align: right;\n",
              "    }\n",
              "</style>\n",
              "<table border=\"1\" class=\"dataframe\">\n",
              "  <thead>\n",
              "    <tr style=\"text-align: right;\">\n",
              "      <th></th>\n",
              "      <th>sepal_length</th>\n",
              "      <th>sepal_width</th>\n",
              "      <th>petal_length</th>\n",
              "      <th>petal_width</th>\n",
              "    </tr>\n",
              "    <tr>\n",
              "      <th>species</th>\n",
              "      <th></th>\n",
              "      <th></th>\n",
              "      <th></th>\n",
              "      <th></th>\n",
              "    </tr>\n",
              "  </thead>\n",
              "  <tbody>\n",
              "    <tr>\n",
              "      <th>Iris-setosa</th>\n",
              "      <td>24.3</td>\n",
              "      <td>16.4</td>\n",
              "      <td>7.0</td>\n",
              "      <td>1.0</td>\n",
              "    </tr>\n",
              "    <tr>\n",
              "      <th>Iris-versicolor</th>\n",
              "      <td>32.3</td>\n",
              "      <td>14.6</td>\n",
              "      <td>22.7</td>\n",
              "      <td>7.2</td>\n",
              "    </tr>\n",
              "    <tr>\n",
              "      <th>Iris-virginica</th>\n",
              "      <td>32.0</td>\n",
              "      <td>14.9</td>\n",
              "      <td>28.4</td>\n",
              "      <td>10.5</td>\n",
              "    </tr>\n",
              "  </tbody>\n",
              "</table>\n",
              "</div>"
            ],
            "text/plain": [
              "                 sepal_length  sepal_width  petal_length  petal_width\n",
              "species                                                              \n",
              "Iris-setosa              24.3         16.4           7.0          1.0\n",
              "Iris-versicolor          32.3         14.6          22.7          7.2\n",
              "Iris-virginica           32.0         14.9          28.4         10.5"
            ]
          },
          "execution_count": 13,
          "metadata": {},
          "output_type": "execute_result"
        }
      ],
      "source": [
        "iris_5.groupby('species').sum()"
      ]
    },
    {
      "cell_type": "code",
      "execution_count": null,
      "metadata": {
        "id": "LLd_fje6XJhs"
      },
      "outputs": [],
      "source": []
    },
    {
      "cell_type": "code",
      "execution_count": null,
      "metadata": {
        "id": "FeV4xYIdXJhs"
      },
      "outputs": [],
      "source": []
    },
    {
      "cell_type": "markdown",
      "metadata": {
        "id": "DP5b-E4qLahT"
      },
      "source": [
        "## 데이터 구간 범주화"
      ]
    },
    {
      "cell_type": "markdown",
      "metadata": {
        "id": "f-pooYr-XJhs"
      },
      "source": [
        "연속형 데이터를 구간으로 나누어 범주화를 실행할 수 있다.\n",
        "설명을 위해 아래 시리즈를 이용한다."
      ]
    },
    {
      "cell_type": "code",
      "execution_count": null,
      "metadata": {
        "id": "yOf5VNkXXJht",
        "outputId": "04c29272-892d-438b-9195-9a156d67969b",
        "scrolled": false
      },
      "outputs": [
        {
          "data": {
            "text/plain": [
              "0     0.276266\n",
              "1    -1.854628\n",
              "2     0.623901\n",
              "3     1.145311\n",
              "4     1.037190\n",
              "5     1.886639\n",
              "6    -0.111698\n",
              "7    -0.362101\n",
              "8     0.148675\n",
              "9    -0.437783\n",
              "10    2.171257\n",
              "11    1.152310\n",
              "12   -1.818812\n",
              "13   -0.138049\n",
              "14    0.539840\n",
              "15   -1.775282\n",
              "16    1.314877\n",
              "17   -0.473448\n",
              "18   -1.092230\n",
              "19   -0.250027\n",
              "dtype: float64"
            ]
          },
          "execution_count": 136,
          "metadata": {},
          "output_type": "execute_result"
        }
      ],
      "source": [
        "np.random.seed(17)\n",
        "\n",
        "arr = pd.Series(np.random.randn(20))\n",
        "arr"
      ]
    },
    {
      "cell_type": "markdown",
      "metadata": {
        "id": "VJPNl-GlXJht"
      },
      "source": [
        "`hist()` 메서드는 기본 키워드 인자를 사용하면 값의 범위를 10등분해서\n",
        "각 구간에 속한 값들의 개수를 히스토그램으로 보여준다."
      ]
    },
    {
      "cell_type": "code",
      "execution_count": null,
      "metadata": {
        "id": "feBq2mzvXJht",
        "outputId": "a9e9dbb9-b2f5-4d42-bc97-044b093f9940"
      },
      "outputs": [
        {
          "data": {
            "text/plain": [
              "<Axes: >"
            ]
          },
          "execution_count": 137,
          "metadata": {},
          "output_type": "execute_result"
        },
        {
          "data": {
            "image/png": "[encoded data removed]",
            "text/plain": [
              "<Figure size 640x480 with 1 Axes>"
            ]
          },
          "metadata": {},
          "output_type": "display_data"
        }
      ],
      "source": [
        "arr.hist() # bins=10 이 기본"
      ]
    },
    {
      "cell_type": "markdown",
      "metadata": {
        "id": "azwH_u9EXJht"
      },
      "source": [
        "**`pd.cut()` 함수**"
      ]
    },
    {
      "cell_type": "markdown",
      "metadata": {
        "id": "LN0Hos0uXJht"
      },
      "source": [
        "시리즈에 포함된 전체 값의 범위를 4등분한 다음에 막대그래프를 그려보자.\n",
        "이를 위해 먼저 시리즈의 항목을 네 개의 구간으로 분류한다.\n",
        "`pd.cut()` 함수는 `bins`에 의해 지정된 정수 만큼의 구간으로\n",
        "기존에 사용된 값들의 구간을 균등하게 등분한 다음에\n",
        "구간으로 구성된 시리즈를 생성한다."
      ]
    },
    {
      "cell_type": "code",
      "execution_count": null,
      "metadata": {
        "id": "Yk_tCw-ZXJhv",
        "outputId": "effb8719-583e-46aa-d1c3-5ce06e138732"
      },
      "outputs": [
        {
          "data": {
            "text/plain": [
              "0       (0.158, 1.165]\n",
              "1     (-1.859, -0.848]\n",
              "2       (0.158, 1.165]\n",
              "3       (0.158, 1.165]\n",
              "4       (0.158, 1.165]\n",
              "5       (1.165, 2.171]\n",
              "6      (-0.848, 0.158]\n",
              "7      (-0.848, 0.158]\n",
              "8      (-0.848, 0.158]\n",
              "9      (-0.848, 0.158]\n",
              "10      (1.165, 2.171]\n",
              "11      (0.158, 1.165]\n",
              "12    (-1.859, -0.848]\n",
              "13     (-0.848, 0.158]\n",
              "14      (0.158, 1.165]\n",
              "15    (-1.859, -0.848]\n",
              "16      (1.165, 2.171]\n",
              "17     (-0.848, 0.158]\n",
              "18    (-1.859, -0.848]\n",
              "19     (-0.848, 0.158]\n",
              "dtype: category\n",
              "Categories (4, interval[float64, right]): [(-1.859, -0.848] < (-0.848, 0.158] < (0.158, 1.165] < (1.165, 2.171]]"
            ]
          },
          "execution_count": 138,
          "metadata": {},
          "output_type": "execute_result"
        }
      ],
      "source": [
        "factor = pd.cut(arr, bins=4)\n",
        "factor"
      ]
    },
    {
      "cell_type": "markdown",
      "metadata": {
        "id": "p4Vj-zM7XJhv"
      },
      "source": [
        "`value_count()` 메서드를 이용하여 구간별 항목의 개수를 확인한다."
      ]
    },
    {
      "cell_type": "code",
      "execution_count": null,
      "metadata": {
        "id": "xbX3mPaoXJhv",
        "outputId": "ca132e2b-c746-426e-9bc7-ac8c50a98e3e"
      },
      "outputs": [
        {
          "data": {
            "text/plain": [
              "(-0.848, 0.158]     7\n",
              "(0.158, 1.165]      6\n",
              "(-1.859, -0.848]    4\n",
              "(1.165, 2.171]      3\n",
              "Name: count, dtype: int64"
            ]
          },
          "execution_count": 139,
          "metadata": {},
          "output_type": "execute_result"
        }
      ],
      "source": [
        "factor.value_counts()"
      ]
    },
    {
      "cell_type": "markdown",
      "metadata": {
        "id": "1NOpSyNHXJhv"
      },
      "source": [
        "아래 코드는 `sort_index()` 메서드를 이용하여 구간을 정렬한 다음에 막대그래프를 그린다."
      ]
    },
    {
      "cell_type": "code",
      "execution_count": null,
      "metadata": {
        "id": "RSiRz_X5XJhw",
        "outputId": "80cf1de0-09cb-4bdd-d299-d5797ef6efb6"
      },
      "outputs": [
        {
          "data": {
            "text/plain": [
              "(-1.859, -0.848]    4\n",
              "(-0.848, 0.158]     7\n",
              "(0.158, 1.165]      6\n",
              "(1.165, 2.171]      3\n",
              "Name: count, dtype: int64"
            ]
          },
          "execution_count": 142,
          "metadata": {},
          "output_type": "execute_result"
        }
      ],
      "source": [
        "factor.value_counts().sort_index()"
      ]
    },
    {
      "cell_type": "code",
      "execution_count": null,
      "metadata": {
        "id": "9syBT3BWXJhw",
        "outputId": "3652aabb-219f-452d-8de9-4937eeb25abf"
      },
      "outputs": [
        {
          "data": {
            "text/plain": [
              "<Axes: >"
            ]
          },
          "execution_count": 140,
          "metadata": {},
          "output_type": "execute_result"
        },
        {
          "data": {
            "image/png": "[encoded data removed]",
            "text/plain": [
              "<Figure size 640x480 with 1 Axes>"
            ]
          },
          "metadata": {},
          "output_type": "display_data"
        }
      ],
      "source": [
        "factor.value_counts().sort_index().plot.bar(rot=0, grid=True)"
      ]
    },
    {
      "cell_type": "markdown",
      "metadata": {
        "id": "nj4Z-k4SXJhw"
      },
      "source": [
        "4등분한 구간에 라벨을 붙이면 구간 정보의 의미를 보다 정확히 전달한다."
      ]
    },
    {
      "cell_type": "code",
      "execution_count": null,
      "metadata": {
        "id": "zZUlpIIxXJhw",
        "outputId": "266b094d-1de6-4a3e-a685-86cf59dc9e12"
      },
      "outputs": [
        {
          "data": {
            "text/plain": [
              "0     C\n",
              "1     A\n",
              "2     C\n",
              "3     C\n",
              "4     C\n",
              "5     D\n",
              "6     B\n",
              "7     B\n",
              "8     B\n",
              "9     B\n",
              "10    D\n",
              "11    C\n",
              "12    A\n",
              "13    B\n",
              "14    C\n",
              "15    A\n",
              "16    D\n",
              "17    B\n",
              "18    A\n",
              "19    B\n",
              "dtype: category\n",
              "Categories (4, object): ['A' < 'B' < 'C' < 'D']"
            ]
          },
          "execution_count": 144,
          "metadata": {},
          "output_type": "execute_result"
        }
      ],
      "source": [
        "factor = pd.cut(arr, bins=4, labels=['A', 'B', 'C', 'D'])\n",
        "factor"
      ]
    },
    {
      "cell_type": "code",
      "execution_count": null,
      "metadata": {
        "id": "T2KtPT87XJhw",
        "outputId": "c35fda6a-0a91-4fe3-af59-f0ffccff601e"
      },
      "outputs": [
        {
          "data": {
            "text/plain": [
              "<Axes: >"
            ]
          },
          "execution_count": 145,
          "metadata": {},
          "output_type": "execute_result"
        },
        {
          "data": {
            "image/png": "[encoded data removed]",
            "text/plain": [
              "<Figure size 640x480 with 1 Axes>"
            ]
          },
          "metadata": {},
          "output_type": "display_data"
        }
      ],
      "source": [
        "factor.value_counts().sort_index().plot.bar(rot=0, grid=True)"
      ]
    }
  ],
  "metadata": {
    "colab": {
      "name": "practice-pandas_stats.ipynb",
      "provenance": []
    },
    "kernelspec": {
      "display_name": "Python 3 (ipykernel)",
      "language": "python",
      "name": "python3"
    },
    "language_info": {
      "codemirror_mode": {
        "name": "ipython",
        "version": 3
      },
      "file_extension": ".py",
      "mimetype": "text/x-python",
      "name": "python",
      "nbconvert_exporter": "python",
      "pygments_lexer": "ipython3",
      "version": "3.11.5"
    }
  },
  "nbformat": 4,
  "nbformat_minor": 0
}
