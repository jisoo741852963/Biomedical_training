{
  "cells": [
    {
      "cell_type": "markdown",
      "metadata": {
        "id": "vN2D9cmLHZ3_"
      },
      "source": [
        "# (실습) 데이터프레임 중심 프로그래밍"
      ]
    },
    {
      "cell_type": "code",
      "execution_count": 1,
      "metadata": {
        "id": "6npwBU-pXKc1"
      },
      "outputs": [],
      "source": [
        "import numpy as np\n",
        "import pandas as pd"
      ]
    },
    {
      "cell_type": "markdown",
      "metadata": {
        "id": "UAmW-dG6BhUI"
      },
      "source": [
        "**문제 1**"
      ]
    },
    {
      "cell_type": "markdown",
      "metadata": {
        "id": "jhZpoc8kXA8u"
      },
      "source": [
        "아래의 딕셔너리 `data`를 이용하여 데이터프레임`df1`를 생성한다."
      ]
    },
    {
      "cell_type": "code",
      "execution_count": 2,
      "metadata": {
        "colab": {
          "base_uri": "https://localhost:8080/",
          "height": 300
        },
        "id": "u-2gZxvtLoUF",
        "outputId": "3ebe5915-1e05-4cc4-c6f3-bcbb1a2165c9"
      },
      "outputs": [
        {
          "data": {
            "text/html": [
              "<div>\n",
              "<style scoped>\n",
              "    .dataframe tbody tr th:only-of-type {\n",
              "        vertical-align: middle;\n",
              "    }\n",
              "\n",
              "    .dataframe tbody tr th {\n",
              "        vertical-align: top;\n",
              "    }\n",
              "\n",
              "    .dataframe thead th {\n",
              "        text-align: right;\n",
              "    }\n",
              "</style>\n",
              "<table border=\"1\" class=\"dataframe\">\n",
              "  <thead>\n",
              "    <tr style=\"text-align: right;\">\n",
              "      <th></th>\n",
              "      <th>A</th>\n",
              "      <th>B</th>\n",
              "      <th>C</th>\n",
              "      <th>D</th>\n",
              "    </tr>\n",
              "  </thead>\n",
              "  <tbody>\n",
              "    <tr>\n",
              "      <th>0</th>\n",
              "      <td>0</td>\n",
              "      <td>1</td>\n",
              "      <td>3</td>\n",
              "      <td>4</td>\n",
              "    </tr>\n",
              "    <tr>\n",
              "      <th>1</th>\n",
              "      <td>5</td>\n",
              "      <td>2</td>\n",
              "      <td>3</td>\n",
              "      <td>2</td>\n",
              "    </tr>\n",
              "    <tr>\n",
              "      <th>2</th>\n",
              "      <td>15</td>\n",
              "      <td>3</td>\n",
              "      <td>3</td>\n",
              "      <td>9</td>\n",
              "    </tr>\n",
              "    <tr>\n",
              "      <th>3</th>\n",
              "      <td>20</td>\n",
              "      <td>4</td>\n",
              "      <td>3</td>\n",
              "      <td>1</td>\n",
              "    </tr>\n",
              "    <tr>\n",
              "      <th>4</th>\n",
              "      <td>25</td>\n",
              "      <td>5</td>\n",
              "      <td>3</td>\n",
              "      <td>20</td>\n",
              "    </tr>\n",
              "    <tr>\n",
              "      <th>5</th>\n",
              "      <td>30</td>\n",
              "      <td>6</td>\n",
              "      <td>3</td>\n",
              "      <td>3</td>\n",
              "    </tr>\n",
              "    <tr>\n",
              "      <th>6</th>\n",
              "      <td>35</td>\n",
              "      <td>7</td>\n",
              "      <td>3</td>\n",
              "      <td>15</td>\n",
              "    </tr>\n",
              "    <tr>\n",
              "      <th>7</th>\n",
              "      <td>40</td>\n",
              "      <td>8</td>\n",
              "      <td>3</td>\n",
              "      <td>17</td>\n",
              "    </tr>\n",
              "  </tbody>\n",
              "</table>\n",
              "</div>"
            ],
            "text/plain": [
              "    A  B  C   D\n",
              "0   0  1  3   4\n",
              "1   5  2  3   2\n",
              "2  15  3  3   9\n",
              "3  20  4  3   1\n",
              "4  25  5  3  20\n",
              "5  30  6  3   3\n",
              "6  35  7  3  15\n",
              "7  40  8  3  17"
            ]
          },
          "execution_count": 2,
          "metadata": {},
          "output_type": "execute_result"
        }
      ],
      "source": [
        "data = {'A' : [0, 5, 15, 20, 25, 30, 35, 40],\n",
        "        'B' : [1, 2, 3, 4, 5, 6, 7, 8],\n",
        "        'C' : [3, 3, 3, 3, 3, 3, 3, 3],\n",
        "        'D' : [4, 2, 9, 1, 20, 3, 15, 17]}\n",
        "\n",
        "df1 = pd.DataFrame(data)\n",
        "df1"
      ]
    },
    {
      "cell_type": "markdown",
      "metadata": {
        "id": "NpreNqo_ZuBJ"
      },
      "source": [
        "(1) `df1`의 각 열의 합을 계산하는 한 줄 표현식을 작성하여라."
      ]
    },
    {
      "cell_type": "markdown",
      "metadata": {
        "id": "IkZTZxtcEDnX"
      },
      "source": [
        "답:"
      ]
    },
    {
      "cell_type": "code",
      "execution_count": 3,
      "metadata": {
        "colab": {
          "base_uri": "https://localhost:8080/",
          "height": 209
        },
        "id": "pgq1TBj6a59k",
        "outputId": "3fce6ef4-2093-4587-de2f-35096ff4c23b"
      },
      "outputs": [
        {
          "data": {
            "text/plain": [
              "A    170\n",
              "B     36\n",
              "C     24\n",
              "D     71\n",
              "dtype: int64"
            ]
          },
          "execution_count": 3,
          "metadata": {},
          "output_type": "execute_result"
        }
      ],
      "source": [
        "df1.sum(axis=0)"
      ]
    },
    {
      "cell_type": "markdown",
      "metadata": {
        "id": "sZlTOqEUEDnZ"
      },
      "source": [
        "(2) `df1`의 각 행의 합을 계산하는 한 줄 표현식을 작성하여라."
      ]
    },
    {
      "cell_type": "markdown",
      "metadata": {
        "id": "ilkdxSAJEDna"
      },
      "source": [
        "답:"
      ]
    },
    {
      "cell_type": "code",
      "execution_count": 4,
      "metadata": {
        "colab": {
          "base_uri": "https://localhost:8080/",
          "height": 335
        },
        "id": "43WgJ3zZEDna",
        "outputId": "0d7d00ec-6a35-4049-d05b-59fe96f349fb"
      },
      "outputs": [
        {
          "data": {
            "text/plain": [
              "0     8\n",
              "1    12\n",
              "2    30\n",
              "3    28\n",
              "4    53\n",
              "5    42\n",
              "6    60\n",
              "7    68\n",
              "dtype: int64"
            ]
          },
          "execution_count": 4,
          "metadata": {},
          "output_type": "execute_result"
        }
      ],
      "source": [
        "df1.sum(axis=1)"
      ]
    },
    {
      "cell_type": "markdown",
      "metadata": {
        "id": "KBdpvaNEh4tc"
      },
      "source": [
        "**문제 2**"
      ]
    },
    {
      "cell_type": "markdown",
      "metadata": {
        "id": "CvMse-_nEDnb"
      },
      "source": [
        "아래 데이터프레임을 생성하기 위해 `pd.date_range()` 함수는 시간으로 구성된 인덱스 자료형을 생성한다.\n",
        "함수 호출에 사용된 키워드 인자의 의미는 다음과 같다.\n",
        "\n",
        "- `start=\"20130101`: 2013년 1월 1일부터 시작\n",
        "- `periods=6`: 첫째 인자로 지정된 시간부터 6 개의 시간 데이터 샘플 생성\n",
        "- `freq=\"D\"`: 시간 데이터 샘플을 일(day) 단위로 생성"
      ]
    },
    {
      "cell_type": "code",
      "execution_count": 5,
      "metadata": {
        "colab": {
          "base_uri": "https://localhost:8080/"
        },
        "id": "UlG8F0TSEDnb",
        "outputId": "bdc0a454-fab6-40ab-a1d9-8eefe42638bb"
      },
      "outputs": [
        {
          "data": {
            "text/plain": [
              "DatetimeIndex(['2013-01-01', '2013-01-02', '2013-01-03', '2013-01-04',\n",
              "               '2013-01-05', '2013-01-06'],\n",
              "              dtype='datetime64[ns]', freq='D')"
            ]
          },
          "execution_count": 5,
          "metadata": {},
          "output_type": "execute_result"
        }
      ],
      "source": [
        "dates = pd.date_range(start=\"20130101\", periods=6, freq=\"D\")\n",
        "dates"
      ]
    },
    {
      "cell_type": "code",
      "execution_count": 6,
      "metadata": {
        "colab": {
          "base_uri": "https://localhost:8080/",
          "height": 237
        },
        "id": "ThZtARQHEDnb",
        "outputId": "419d3539-fa03-4568-c8e4-87b339bbd539"
      },
      "outputs": [
        {
          "data": {
            "text/html": [
              "<div>\n",
              "<style scoped>\n",
              "    .dataframe tbody tr th:only-of-type {\n",
              "        vertical-align: middle;\n",
              "    }\n",
              "\n",
              "    .dataframe tbody tr th {\n",
              "        vertical-align: top;\n",
              "    }\n",
              "\n",
              "    .dataframe thead th {\n",
              "        text-align: right;\n",
              "    }\n",
              "</style>\n",
              "<table border=\"1\" class=\"dataframe\">\n",
              "  <thead>\n",
              "    <tr style=\"text-align: right;\">\n",
              "      <th></th>\n",
              "      <th>C</th>\n",
              "      <th>D</th>\n",
              "      <th>A</th>\n",
              "      <th>B</th>\n",
              "      <th>F</th>\n",
              "    </tr>\n",
              "  </thead>\n",
              "  <tbody>\n",
              "    <tr>\n",
              "      <th>2013-01-01</th>\n",
              "      <td>1.764052</td>\n",
              "      <td>0.400157</td>\n",
              "      <td>0.978738</td>\n",
              "      <td>2.240893</td>\n",
              "      <td>1.867558</td>\n",
              "    </tr>\n",
              "    <tr>\n",
              "      <th>2013-01-02</th>\n",
              "      <td>-0.977278</td>\n",
              "      <td>0.950088</td>\n",
              "      <td>-0.151357</td>\n",
              "      <td>-0.103219</td>\n",
              "      <td>0.410599</td>\n",
              "    </tr>\n",
              "    <tr>\n",
              "      <th>2013-01-03</th>\n",
              "      <td>0.144044</td>\n",
              "      <td>1.454274</td>\n",
              "      <td>0.761038</td>\n",
              "      <td>0.121675</td>\n",
              "      <td>0.443863</td>\n",
              "    </tr>\n",
              "    <tr>\n",
              "      <th>2013-01-04</th>\n",
              "      <td>0.333674</td>\n",
              "      <td>1.494079</td>\n",
              "      <td>-0.205158</td>\n",
              "      <td>0.313068</td>\n",
              "      <td>-0.854096</td>\n",
              "    </tr>\n",
              "    <tr>\n",
              "      <th>2013-01-05</th>\n",
              "      <td>-2.552990</td>\n",
              "      <td>0.653619</td>\n",
              "      <td>0.864436</td>\n",
              "      <td>-0.742165</td>\n",
              "      <td>2.269755</td>\n",
              "    </tr>\n",
              "    <tr>\n",
              "      <th>2013-01-06</th>\n",
              "      <td>-1.454366</td>\n",
              "      <td>0.045759</td>\n",
              "      <td>-0.187184</td>\n",
              "      <td>1.532779</td>\n",
              "      <td>1.469359</td>\n",
              "    </tr>\n",
              "  </tbody>\n",
              "</table>\n",
              "</div>"
            ],
            "text/plain": [
              "                   C         D         A         B         F\n",
              "2013-01-01  1.764052  0.400157  0.978738  2.240893  1.867558\n",
              "2013-01-02 -0.977278  0.950088 -0.151357 -0.103219  0.410599\n",
              "2013-01-03  0.144044  1.454274  0.761038  0.121675  0.443863\n",
              "2013-01-04  0.333674  1.494079 -0.205158  0.313068 -0.854096\n",
              "2013-01-05 -2.552990  0.653619  0.864436 -0.742165  2.269755\n",
              "2013-01-06 -1.454366  0.045759 -0.187184  1.532779  1.469359"
            ]
          },
          "execution_count": 6,
          "metadata": {},
          "output_type": "execute_result"
        }
      ],
      "source": [
        "np.random.seed(0)\n",
        "\n",
        "df = pd.DataFrame(np.random.randn(6, 5), index=dates, columns=list(\"CDABF\"))\n",
        "df"
      ]
    },
    {
      "cell_type": "markdown",
      "metadata": {
        "id": "aLIzfkguR6hY"
      },
      "source": [
        "(1) 열 라벨을 기준으로 오름차순으로 정렬된 데이터프레임을 생성하는 한 줄 표현식을 작성하여라."
      ]
    },
    {
      "cell_type": "markdown",
      "metadata": {
        "id": "khTgMGiZEDnc"
      },
      "source": [
        "답:"
      ]
    },
    {
      "cell_type": "code",
      "execution_count": 7,
      "metadata": {
        "colab": {
          "base_uri": "https://localhost:8080/",
          "height": 237
        },
        "id": "yuWbmU8fR8hp",
        "outputId": "7cf5d1ac-8cb2-45f7-a669-0c87f928bcf2"
      },
      "outputs": [
        {
          "data": {
            "text/html": [
              "<div>\n",
              "<style scoped>\n",
              "    .dataframe tbody tr th:only-of-type {\n",
              "        vertical-align: middle;\n",
              "    }\n",
              "\n",
              "    .dataframe tbody tr th {\n",
              "        vertical-align: top;\n",
              "    }\n",
              "\n",
              "    .dataframe thead th {\n",
              "        text-align: right;\n",
              "    }\n",
              "</style>\n",
              "<table border=\"1\" class=\"dataframe\">\n",
              "  <thead>\n",
              "    <tr style=\"text-align: right;\">\n",
              "      <th></th>\n",
              "      <th>A</th>\n",
              "      <th>B</th>\n",
              "      <th>C</th>\n",
              "      <th>D</th>\n",
              "      <th>F</th>\n",
              "    </tr>\n",
              "  </thead>\n",
              "  <tbody>\n",
              "    <tr>\n",
              "      <th>2013-01-01</th>\n",
              "      <td>0.978738</td>\n",
              "      <td>2.240893</td>\n",
              "      <td>1.764052</td>\n",
              "      <td>0.400157</td>\n",
              "      <td>1.867558</td>\n",
              "    </tr>\n",
              "    <tr>\n",
              "      <th>2013-01-02</th>\n",
              "      <td>-0.151357</td>\n",
              "      <td>-0.103219</td>\n",
              "      <td>-0.977278</td>\n",
              "      <td>0.950088</td>\n",
              "      <td>0.410599</td>\n",
              "    </tr>\n",
              "    <tr>\n",
              "      <th>2013-01-03</th>\n",
              "      <td>0.761038</td>\n",
              "      <td>0.121675</td>\n",
              "      <td>0.144044</td>\n",
              "      <td>1.454274</td>\n",
              "      <td>0.443863</td>\n",
              "    </tr>\n",
              "    <tr>\n",
              "      <th>2013-01-04</th>\n",
              "      <td>-0.205158</td>\n",
              "      <td>0.313068</td>\n",
              "      <td>0.333674</td>\n",
              "      <td>1.494079</td>\n",
              "      <td>-0.854096</td>\n",
              "    </tr>\n",
              "    <tr>\n",
              "      <th>2013-01-05</th>\n",
              "      <td>0.864436</td>\n",
              "      <td>-0.742165</td>\n",
              "      <td>-2.552990</td>\n",
              "      <td>0.653619</td>\n",
              "      <td>2.269755</td>\n",
              "    </tr>\n",
              "    <tr>\n",
              "      <th>2013-01-06</th>\n",
              "      <td>-0.187184</td>\n",
              "      <td>1.532779</td>\n",
              "      <td>-1.454366</td>\n",
              "      <td>0.045759</td>\n",
              "      <td>1.469359</td>\n",
              "    </tr>\n",
              "  </tbody>\n",
              "</table>\n",
              "</div>"
            ],
            "text/plain": [
              "                   A         B         C         D         F\n",
              "2013-01-01  0.978738  2.240893  1.764052  0.400157  1.867558\n",
              "2013-01-02 -0.151357 -0.103219 -0.977278  0.950088  0.410599\n",
              "2013-01-03  0.761038  0.121675  0.144044  1.454274  0.443863\n",
              "2013-01-04 -0.205158  0.313068  0.333674  1.494079 -0.854096\n",
              "2013-01-05  0.864436 -0.742165 -2.552990  0.653619  2.269755\n",
              "2013-01-06 -0.187184  1.532779 -1.454366  0.045759  1.469359"
            ]
          },
          "execution_count": 7,
          "metadata": {},
          "output_type": "execute_result"
        }
      ],
      "source": [
        "df.sort_index(axis=1)"
      ]
    },
    {
      "cell_type": "markdown",
      "metadata": {
        "id": "SseiKgZ-EDnd"
      },
      "source": [
        "(2) 열 라벨을 기준으로 내림차순으로 정렬된 데이터프레임을 생성하는 한 줄 표현식을 작성하여라."
      ]
    },
    {
      "cell_type": "code",
      "execution_count": 8,
      "metadata": {
        "colab": {
          "base_uri": "https://localhost:8080/",
          "height": 237
        },
        "id": "tWQb6M4KEDnd",
        "outputId": "57437fa1-52f6-4c45-96aa-c1bd2c35dda2"
      },
      "outputs": [
        {
          "data": {
            "text/html": [
              "<div>\n",
              "<style scoped>\n",
              "    .dataframe tbody tr th:only-of-type {\n",
              "        vertical-align: middle;\n",
              "    }\n",
              "\n",
              "    .dataframe tbody tr th {\n",
              "        vertical-align: top;\n",
              "    }\n",
              "\n",
              "    .dataframe thead th {\n",
              "        text-align: right;\n",
              "    }\n",
              "</style>\n",
              "<table border=\"1\" class=\"dataframe\">\n",
              "  <thead>\n",
              "    <tr style=\"text-align: right;\">\n",
              "      <th></th>\n",
              "      <th>F</th>\n",
              "      <th>D</th>\n",
              "      <th>C</th>\n",
              "      <th>B</th>\n",
              "      <th>A</th>\n",
              "    </tr>\n",
              "  </thead>\n",
              "  <tbody>\n",
              "    <tr>\n",
              "      <th>2013-01-01</th>\n",
              "      <td>1.867558</td>\n",
              "      <td>0.400157</td>\n",
              "      <td>1.764052</td>\n",
              "      <td>2.240893</td>\n",
              "      <td>0.978738</td>\n",
              "    </tr>\n",
              "    <tr>\n",
              "      <th>2013-01-02</th>\n",
              "      <td>0.410599</td>\n",
              "      <td>0.950088</td>\n",
              "      <td>-0.977278</td>\n",
              "      <td>-0.103219</td>\n",
              "      <td>-0.151357</td>\n",
              "    </tr>\n",
              "    <tr>\n",
              "      <th>2013-01-03</th>\n",
              "      <td>0.443863</td>\n",
              "      <td>1.454274</td>\n",
              "      <td>0.144044</td>\n",
              "      <td>0.121675</td>\n",
              "      <td>0.761038</td>\n",
              "    </tr>\n",
              "    <tr>\n",
              "      <th>2013-01-04</th>\n",
              "      <td>-0.854096</td>\n",
              "      <td>1.494079</td>\n",
              "      <td>0.333674</td>\n",
              "      <td>0.313068</td>\n",
              "      <td>-0.205158</td>\n",
              "    </tr>\n",
              "    <tr>\n",
              "      <th>2013-01-05</th>\n",
              "      <td>2.269755</td>\n",
              "      <td>0.653619</td>\n",
              "      <td>-2.552990</td>\n",
              "      <td>-0.742165</td>\n",
              "      <td>0.864436</td>\n",
              "    </tr>\n",
              "    <tr>\n",
              "      <th>2013-01-06</th>\n",
              "      <td>1.469359</td>\n",
              "      <td>0.045759</td>\n",
              "      <td>-1.454366</td>\n",
              "      <td>1.532779</td>\n",
              "      <td>-0.187184</td>\n",
              "    </tr>\n",
              "  </tbody>\n",
              "</table>\n",
              "</div>"
            ],
            "text/plain": [
              "                   F         D         C         B         A\n",
              "2013-01-01  1.867558  0.400157  1.764052  2.240893  0.978738\n",
              "2013-01-02  0.410599  0.950088 -0.977278 -0.103219 -0.151357\n",
              "2013-01-03  0.443863  1.454274  0.144044  0.121675  0.761038\n",
              "2013-01-04 -0.854096  1.494079  0.333674  0.313068 -0.205158\n",
              "2013-01-05  2.269755  0.653619 -2.552990 -0.742165  0.864436\n",
              "2013-01-06  1.469359  0.045759 -1.454366  1.532779 -0.187184"
            ]
          },
          "execution_count": 8,
          "metadata": {},
          "output_type": "execute_result"
        }
      ],
      "source": [
        "df.sort_index(axis=1, ascending=False)"
      ]
    },
    {
      "cell_type": "markdown",
      "metadata": {
        "id": "ZNF8eIKmEDnd"
      },
      "source": [
        "(3) `B` 라벨 열의 항목을 기준으로 오름차순으로 정렬된 데이터프레임을 생성하는 한 줄 표현식을 작성하여라."
      ]
    },
    {
      "cell_type": "code",
      "execution_count": 9,
      "metadata": {
        "colab": {
          "base_uri": "https://localhost:8080/",
          "height": 237
        },
        "id": "j_7cuOtwSYf1",
        "outputId": "ee7339bb-d367-4eac-8047-a631bc652488"
      },
      "outputs": [
        {
          "data": {
            "text/html": [
              "<div>\n",
              "<style scoped>\n",
              "    .dataframe tbody tr th:only-of-type {\n",
              "        vertical-align: middle;\n",
              "    }\n",
              "\n",
              "    .dataframe tbody tr th {\n",
              "        vertical-align: top;\n",
              "    }\n",
              "\n",
              "    .dataframe thead th {\n",
              "        text-align: right;\n",
              "    }\n",
              "</style>\n",
              "<table border=\"1\" class=\"dataframe\">\n",
              "  <thead>\n",
              "    <tr style=\"text-align: right;\">\n",
              "      <th></th>\n",
              "      <th>C</th>\n",
              "      <th>D</th>\n",
              "      <th>A</th>\n",
              "      <th>B</th>\n",
              "      <th>F</th>\n",
              "    </tr>\n",
              "  </thead>\n",
              "  <tbody>\n",
              "    <tr>\n",
              "      <th>2013-01-05</th>\n",
              "      <td>-2.552990</td>\n",
              "      <td>0.653619</td>\n",
              "      <td>0.864436</td>\n",
              "      <td>-0.742165</td>\n",
              "      <td>2.269755</td>\n",
              "    </tr>\n",
              "    <tr>\n",
              "      <th>2013-01-02</th>\n",
              "      <td>-0.977278</td>\n",
              "      <td>0.950088</td>\n",
              "      <td>-0.151357</td>\n",
              "      <td>-0.103219</td>\n",
              "      <td>0.410599</td>\n",
              "    </tr>\n",
              "    <tr>\n",
              "      <th>2013-01-03</th>\n",
              "      <td>0.144044</td>\n",
              "      <td>1.454274</td>\n",
              "      <td>0.761038</td>\n",
              "      <td>0.121675</td>\n",
              "      <td>0.443863</td>\n",
              "    </tr>\n",
              "    <tr>\n",
              "      <th>2013-01-04</th>\n",
              "      <td>0.333674</td>\n",
              "      <td>1.494079</td>\n",
              "      <td>-0.205158</td>\n",
              "      <td>0.313068</td>\n",
              "      <td>-0.854096</td>\n",
              "    </tr>\n",
              "    <tr>\n",
              "      <th>2013-01-06</th>\n",
              "      <td>-1.454366</td>\n",
              "      <td>0.045759</td>\n",
              "      <td>-0.187184</td>\n",
              "      <td>1.532779</td>\n",
              "      <td>1.469359</td>\n",
              "    </tr>\n",
              "    <tr>\n",
              "      <th>2013-01-01</th>\n",
              "      <td>1.764052</td>\n",
              "      <td>0.400157</td>\n",
              "      <td>0.978738</td>\n",
              "      <td>2.240893</td>\n",
              "      <td>1.867558</td>\n",
              "    </tr>\n",
              "  </tbody>\n",
              "</table>\n",
              "</div>"
            ],
            "text/plain": [
              "                   C         D         A         B         F\n",
              "2013-01-05 -2.552990  0.653619  0.864436 -0.742165  2.269755\n",
              "2013-01-02 -0.977278  0.950088 -0.151357 -0.103219  0.410599\n",
              "2013-01-03  0.144044  1.454274  0.761038  0.121675  0.443863\n",
              "2013-01-04  0.333674  1.494079 -0.205158  0.313068 -0.854096\n",
              "2013-01-06 -1.454366  0.045759 -0.187184  1.532779  1.469359\n",
              "2013-01-01  1.764052  0.400157  0.978738  2.240893  1.867558"
            ]
          },
          "execution_count": 9,
          "metadata": {},
          "output_type": "execute_result"
        }
      ],
      "source": [
        "df.sort_values(by='B')"
      ]
    },
    {
      "cell_type": "markdown",
      "metadata": {
        "id": "vXKB0vzdFAI5"
      },
      "source": [
        "### 통계"
      ]
    },
    {
      "cell_type": "code",
      "execution_count": 10,
      "metadata": {
        "colab": {
          "base_uri": "https://localhost:8080/",
          "height": 237
        },
        "id": "EZbVmoyjEDne",
        "outputId": "f31009ed-3d4b-469a-a30c-8e487afb5c14"
      },
      "outputs": [
        {
          "data": {
            "text/html": [
              "<div>\n",
              "<style scoped>\n",
              "    .dataframe tbody tr th:only-of-type {\n",
              "        vertical-align: middle;\n",
              "    }\n",
              "\n",
              "    .dataframe tbody tr th {\n",
              "        vertical-align: top;\n",
              "    }\n",
              "\n",
              "    .dataframe thead th {\n",
              "        text-align: right;\n",
              "    }\n",
              "</style>\n",
              "<table border=\"1\" class=\"dataframe\">\n",
              "  <thead>\n",
              "    <tr style=\"text-align: right;\">\n",
              "      <th></th>\n",
              "      <th>C</th>\n",
              "      <th>D</th>\n",
              "      <th>A</th>\n",
              "      <th>B</th>\n",
              "      <th>F</th>\n",
              "    </tr>\n",
              "  </thead>\n",
              "  <tbody>\n",
              "    <tr>\n",
              "      <th>2013-01-01</th>\n",
              "      <td>1.764052</td>\n",
              "      <td>0.400157</td>\n",
              "      <td>0.978738</td>\n",
              "      <td>2.240893</td>\n",
              "      <td>1.867558</td>\n",
              "    </tr>\n",
              "    <tr>\n",
              "      <th>2013-01-02</th>\n",
              "      <td>-0.977278</td>\n",
              "      <td>0.950088</td>\n",
              "      <td>-0.151357</td>\n",
              "      <td>-0.103219</td>\n",
              "      <td>0.410599</td>\n",
              "    </tr>\n",
              "    <tr>\n",
              "      <th>2013-01-03</th>\n",
              "      <td>0.144044</td>\n",
              "      <td>1.454274</td>\n",
              "      <td>0.761038</td>\n",
              "      <td>0.121675</td>\n",
              "      <td>0.443863</td>\n",
              "    </tr>\n",
              "    <tr>\n",
              "      <th>2013-01-04</th>\n",
              "      <td>0.333674</td>\n",
              "      <td>1.494079</td>\n",
              "      <td>-0.205158</td>\n",
              "      <td>0.313068</td>\n",
              "      <td>-0.854096</td>\n",
              "    </tr>\n",
              "    <tr>\n",
              "      <th>2013-01-05</th>\n",
              "      <td>-2.552990</td>\n",
              "      <td>0.653619</td>\n",
              "      <td>0.864436</td>\n",
              "      <td>-0.742165</td>\n",
              "      <td>2.269755</td>\n",
              "    </tr>\n",
              "    <tr>\n",
              "      <th>2013-01-06</th>\n",
              "      <td>-1.454366</td>\n",
              "      <td>0.045759</td>\n",
              "      <td>-0.187184</td>\n",
              "      <td>1.532779</td>\n",
              "      <td>1.469359</td>\n",
              "    </tr>\n",
              "  </tbody>\n",
              "</table>\n",
              "</div>"
            ],
            "text/plain": [
              "                   C         D         A         B         F\n",
              "2013-01-01  1.764052  0.400157  0.978738  2.240893  1.867558\n",
              "2013-01-02 -0.977278  0.950088 -0.151357 -0.103219  0.410599\n",
              "2013-01-03  0.144044  1.454274  0.761038  0.121675  0.443863\n",
              "2013-01-04  0.333674  1.494079 -0.205158  0.313068 -0.854096\n",
              "2013-01-05 -2.552990  0.653619  0.864436 -0.742165  2.269755\n",
              "2013-01-06 -1.454366  0.045759 -0.187184  1.532779  1.469359"
            ]
          },
          "execution_count": 10,
          "metadata": {},
          "output_type": "execute_result"
        }
      ],
      "source": [
        "df"
      ]
    },
    {
      "cell_type": "markdown",
      "metadata": {
        "id": "A-dk6swuEDnf"
      },
      "source": [
        "`F` 열은 결측치를 제외한 5개의 값의 평균값을 구한다."
      ]
    },
    {
      "cell_type": "code",
      "execution_count": 11,
      "metadata": {
        "colab": {
          "base_uri": "https://localhost:8080/",
          "height": 241
        },
        "id": "mwEuBkOuFDp5",
        "outputId": "6c104a5d-8600-4970-fca9-905ea0f54b28"
      },
      "outputs": [
        {
          "data": {
            "text/plain": [
              "C   -0.457144\n",
              "D    0.832996\n",
              "A    0.343419\n",
              "B    0.560505\n",
              "F    0.934506\n",
              "dtype: float64"
            ]
          },
          "execution_count": 11,
          "metadata": {},
          "output_type": "execute_result"
        }
      ],
      "source": [
        "df.mean()"
      ]
    },
    {
      "cell_type": "markdown",
      "metadata": {
        "id": "a7wTsr-_EDng"
      },
      "source": [
        "결측치는 모든 연산에서 무시된다.\n",
        "실제로 `F` 열에서 결측치를 제외한 항목 개수는 5이다."
      ]
    },
    {
      "cell_type": "code",
      "execution_count": 12,
      "metadata": {
        "colab": {
          "base_uri": "https://localhost:8080/",
          "height": 303
        },
        "id": "nEqccRvAEDnj",
        "outputId": "95724bc2-7d93-4011-ef1f-286fdf253e11"
      },
      "outputs": [
        {
          "data": {
            "text/plain": [
              "F\n",
              " 1.867558    1\n",
              " 0.410599    1\n",
              " 0.443863    1\n",
              "-0.854096    1\n",
              " 2.269755    1\n",
              " 1.469359    1\n",
              "Name: count, dtype: int64"
            ]
          },
          "execution_count": 12,
          "metadata": {},
          "output_type": "execute_result"
        }
      ],
      "source": [
        "df.F.value_counts()"
      ]
    },
    {
      "cell_type": "code",
      "execution_count": 13,
      "metadata": {
        "colab": {
          "base_uri": "https://localhost:8080/"
        },
        "id": "HJedfkEiEDnj",
        "outputId": "0be46525-e712-4c98-bdbb-64476f3280cb"
      },
      "outputs": [
        {
          "data": {
            "text/plain": [
              "6"
            ]
          },
          "execution_count": 13,
          "metadata": {},
          "output_type": "execute_result"
        }
      ],
      "source": [
        "df.F.value_counts().sum()"
      ]
    },
    {
      "cell_type": "markdown",
      "metadata": {
        "id": "x3IH383UEDnk"
      },
      "source": [
        "결측치를 제외한 항목의 합을 5로 나눈 값은 3.8이다."
      ]
    },
    {
      "cell_type": "code",
      "execution_count": 14,
      "metadata": {
        "colab": {
          "base_uri": "https://localhost:8080/"
        },
        "id": "RPPlWQaKEDnk",
        "outputId": "1c8b24c4-52e4-4aed-bea7-15780e5055c1"
      },
      "outputs": [
        {
          "data": {
            "text/plain": [
              "1.1214074758839867"
            ]
          },
          "execution_count": 14,
          "metadata": {},
          "output_type": "execute_result"
        }
      ],
      "source": [
        "df.F.sum()/5"
      ]
    },
    {
      "cell_type": "markdown",
      "metadata": {
        "id": "O7ZkugS1FGnX"
      },
      "source": [
        "축을 지정하면 행 또는 열 기준으로 작동한다."
      ]
    },
    {
      "cell_type": "markdown",
      "metadata": {
        "id": "M2Qu-8feEDnl"
      },
      "source": [
        "- 행별 평균값"
      ]
    },
    {
      "cell_type": "code",
      "execution_count": 15,
      "metadata": {
        "colab": {
          "base_uri": "https://localhost:8080/",
          "height": 272
        },
        "id": "t_sWapEvFFwe",
        "outputId": "54ab92be-c59b-47cb-feff-8964e4a2f333"
      },
      "outputs": [
        {
          "data": {
            "text/plain": [
              "2013-01-01    1.450280\n",
              "2013-01-02    0.025767\n",
              "2013-01-03    0.584979\n",
              "2013-01-04    0.216313\n",
              "2013-01-05    0.098531\n",
              "2013-01-06    0.281269\n",
              "Freq: D, dtype: float64"
            ]
          },
          "execution_count": 15,
          "metadata": {},
          "output_type": "execute_result"
        }
      ],
      "source": [
        "df.mean(1) # axis=1"
      ]
    },
    {
      "cell_type": "markdown",
      "metadata": {
        "id": "uNA7--qsEDnm"
      },
      "source": [
        "### 사칙연산"
      ]
    },
    {
      "cell_type": "code",
      "execution_count": 16,
      "metadata": {
        "colab": {
          "base_uri": "https://localhost:8080/",
          "height": 272
        },
        "id": "cdahzzBWFTym",
        "outputId": "0d424e4e-7523-40e2-a2f4-62e078ef4035"
      },
      "outputs": [
        {
          "data": {
            "text/plain": [
              "2013-01-01    1.0\n",
              "2013-01-02    3.0\n",
              "2013-01-03    5.0\n",
              "2013-01-04    NaN\n",
              "2013-01-05    6.0\n",
              "2013-01-06    8.0\n",
              "Freq: D, dtype: float64"
            ]
          },
          "execution_count": 16,
          "metadata": {},
          "output_type": "execute_result"
        }
      ],
      "source": [
        "s = pd.Series([1, 3, 5, np.nan, 6, 8], index = dates)\n",
        "s"
      ]
    },
    {
      "cell_type": "markdown",
      "metadata": {
        "id": "uTghtSL6EDnn"
      },
      "source": [
        "결측치를 더 추가한다.\n",
        "\n",
        "참고; [`DataFrame.shift()`](https://pandas.pydata.org/docs/reference/api/pandas.DataFrame.shift.html)"
      ]
    },
    {
      "cell_type": "code",
      "execution_count": 17,
      "metadata": {
        "colab": {
          "base_uri": "https://localhost:8080/",
          "height": 272
        },
        "id": "Q5vpOIFzEDnn",
        "outputId": "e0a2aa3d-e137-4cf2-a736-9fae4db37b00"
      },
      "outputs": [
        {
          "data": {
            "text/plain": [
              "2013-01-01    NaN\n",
              "2013-01-02    NaN\n",
              "2013-01-03    1.0\n",
              "2013-01-04    3.0\n",
              "2013-01-05    5.0\n",
              "2013-01-06    NaN\n",
              "Freq: D, dtype: float64"
            ]
          },
          "execution_count": 17,
          "metadata": {},
          "output_type": "execute_result"
        }
      ],
      "source": [
        "s = pd.Series([1, 3, 5, np.nan, 6, 8], index = dates).shift(2)\n",
        "s"
      ]
    },
    {
      "cell_type": "markdown",
      "metadata": {
        "id": "WfkGeyu8EDno"
      },
      "source": [
        "- 행별 뺄셈: `df - s`"
      ]
    },
    {
      "cell_type": "code",
      "execution_count": 18,
      "metadata": {
        "colab": {
          "base_uri": "https://localhost:8080/",
          "height": 237
        },
        "id": "Xlw1Qb-7EDno",
        "outputId": "c7023cbb-0257-4b99-aba2-e09a3657c31a"
      },
      "outputs": [
        {
          "data": {
            "text/html": [
              "<div>\n",
              "<style scoped>\n",
              "    .dataframe tbody tr th:only-of-type {\n",
              "        vertical-align: middle;\n",
              "    }\n",
              "\n",
              "    .dataframe tbody tr th {\n",
              "        vertical-align: top;\n",
              "    }\n",
              "\n",
              "    .dataframe thead th {\n",
              "        text-align: right;\n",
              "    }\n",
              "</style>\n",
              "<table border=\"1\" class=\"dataframe\">\n",
              "  <thead>\n",
              "    <tr style=\"text-align: right;\">\n",
              "      <th></th>\n",
              "      <th>C</th>\n",
              "      <th>D</th>\n",
              "      <th>A</th>\n",
              "      <th>B</th>\n",
              "      <th>F</th>\n",
              "    </tr>\n",
              "  </thead>\n",
              "  <tbody>\n",
              "    <tr>\n",
              "      <th>2013-01-01</th>\n",
              "      <td>1.764052</td>\n",
              "      <td>0.400157</td>\n",
              "      <td>0.978738</td>\n",
              "      <td>2.240893</td>\n",
              "      <td>1.867558</td>\n",
              "    </tr>\n",
              "    <tr>\n",
              "      <th>2013-01-02</th>\n",
              "      <td>-0.977278</td>\n",
              "      <td>0.950088</td>\n",
              "      <td>-0.151357</td>\n",
              "      <td>-0.103219</td>\n",
              "      <td>0.410599</td>\n",
              "    </tr>\n",
              "    <tr>\n",
              "      <th>2013-01-03</th>\n",
              "      <td>0.144044</td>\n",
              "      <td>1.454274</td>\n",
              "      <td>0.761038</td>\n",
              "      <td>0.121675</td>\n",
              "      <td>0.443863</td>\n",
              "    </tr>\n",
              "    <tr>\n",
              "      <th>2013-01-04</th>\n",
              "      <td>0.333674</td>\n",
              "      <td>1.494079</td>\n",
              "      <td>-0.205158</td>\n",
              "      <td>0.313068</td>\n",
              "      <td>-0.854096</td>\n",
              "    </tr>\n",
              "    <tr>\n",
              "      <th>2013-01-05</th>\n",
              "      <td>-2.552990</td>\n",
              "      <td>0.653619</td>\n",
              "      <td>0.864436</td>\n",
              "      <td>-0.742165</td>\n",
              "      <td>2.269755</td>\n",
              "    </tr>\n",
              "    <tr>\n",
              "      <th>2013-01-06</th>\n",
              "      <td>-1.454366</td>\n",
              "      <td>0.045759</td>\n",
              "      <td>-0.187184</td>\n",
              "      <td>1.532779</td>\n",
              "      <td>1.469359</td>\n",
              "    </tr>\n",
              "  </tbody>\n",
              "</table>\n",
              "</div>"
            ],
            "text/plain": [
              "                   C         D         A         B         F\n",
              "2013-01-01  1.764052  0.400157  0.978738  2.240893  1.867558\n",
              "2013-01-02 -0.977278  0.950088 -0.151357 -0.103219  0.410599\n",
              "2013-01-03  0.144044  1.454274  0.761038  0.121675  0.443863\n",
              "2013-01-04  0.333674  1.494079 -0.205158  0.313068 -0.854096\n",
              "2013-01-05 -2.552990  0.653619  0.864436 -0.742165  2.269755\n",
              "2013-01-06 -1.454366  0.045759 -0.187184  1.532779  1.469359"
            ]
          },
          "execution_count": 18,
          "metadata": {},
          "output_type": "execute_result"
        }
      ],
      "source": [
        "df"
      ]
    },
    {
      "cell_type": "markdown",
      "metadata": {
        "id": "Rl81BnV5EDno"
      },
      "source": [
        "결측치가 관여하면 무조건 결측치로 처리된다."
      ]
    },
    {
      "cell_type": "code",
      "execution_count": 19,
      "metadata": {
        "colab": {
          "base_uri": "https://localhost:8080/",
          "height": 237
        },
        "id": "ISLvLvN1F5xs",
        "outputId": "7540438b-34c8-4a72-a51b-a9c199c58a20"
      },
      "outputs": [
        {
          "data": {
            "text/html": [
              "<div>\n",
              "<style scoped>\n",
              "    .dataframe tbody tr th:only-of-type {\n",
              "        vertical-align: middle;\n",
              "    }\n",
              "\n",
              "    .dataframe tbody tr th {\n",
              "        vertical-align: top;\n",
              "    }\n",
              "\n",
              "    .dataframe thead th {\n",
              "        text-align: right;\n",
              "    }\n",
              "</style>\n",
              "<table border=\"1\" class=\"dataframe\">\n",
              "  <thead>\n",
              "    <tr style=\"text-align: right;\">\n",
              "      <th></th>\n",
              "      <th>C</th>\n",
              "      <th>D</th>\n",
              "      <th>A</th>\n",
              "      <th>B</th>\n",
              "      <th>F</th>\n",
              "    </tr>\n",
              "  </thead>\n",
              "  <tbody>\n",
              "    <tr>\n",
              "      <th>2013-01-01</th>\n",
              "      <td>NaN</td>\n",
              "      <td>NaN</td>\n",
              "      <td>NaN</td>\n",
              "      <td>NaN</td>\n",
              "      <td>NaN</td>\n",
              "    </tr>\n",
              "    <tr>\n",
              "      <th>2013-01-02</th>\n",
              "      <td>NaN</td>\n",
              "      <td>NaN</td>\n",
              "      <td>NaN</td>\n",
              "      <td>NaN</td>\n",
              "      <td>NaN</td>\n",
              "    </tr>\n",
              "    <tr>\n",
              "      <th>2013-01-03</th>\n",
              "      <td>-0.855956</td>\n",
              "      <td>0.454274</td>\n",
              "      <td>-0.238962</td>\n",
              "      <td>-0.878325</td>\n",
              "      <td>-0.556137</td>\n",
              "    </tr>\n",
              "    <tr>\n",
              "      <th>2013-01-04</th>\n",
              "      <td>-2.666326</td>\n",
              "      <td>-1.505921</td>\n",
              "      <td>-3.205158</td>\n",
              "      <td>-2.686932</td>\n",
              "      <td>-3.854096</td>\n",
              "    </tr>\n",
              "    <tr>\n",
              "      <th>2013-01-05</th>\n",
              "      <td>-7.552990</td>\n",
              "      <td>-4.346381</td>\n",
              "      <td>-4.135564</td>\n",
              "      <td>-5.742165</td>\n",
              "      <td>-2.730245</td>\n",
              "    </tr>\n",
              "    <tr>\n",
              "      <th>2013-01-06</th>\n",
              "      <td>NaN</td>\n",
              "      <td>NaN</td>\n",
              "      <td>NaN</td>\n",
              "      <td>NaN</td>\n",
              "      <td>NaN</td>\n",
              "    </tr>\n",
              "  </tbody>\n",
              "</table>\n",
              "</div>"
            ],
            "text/plain": [
              "                   C         D         A         B         F\n",
              "2013-01-01       NaN       NaN       NaN       NaN       NaN\n",
              "2013-01-02       NaN       NaN       NaN       NaN       NaN\n",
              "2013-01-03 -0.855956  0.454274 -0.238962 -0.878325 -0.556137\n",
              "2013-01-04 -2.666326 -1.505921 -3.205158 -2.686932 -3.854096\n",
              "2013-01-05 -7.552990 -4.346381 -4.135564 -5.742165 -2.730245\n",
              "2013-01-06       NaN       NaN       NaN       NaN       NaN"
            ]
          },
          "execution_count": 19,
          "metadata": {},
          "output_type": "execute_result"
        }
      ],
      "source": [
        "df.sub(s, axis='index') # axis=0"
      ]
    },
    {
      "cell_type": "markdown",
      "metadata": {
        "id": "0N0K6WGoEDno"
      },
      "source": [
        "- 브로드캐스팅: 필요에 따라 자동 적용"
      ]
    },
    {
      "cell_type": "code",
      "execution_count": 20,
      "metadata": {
        "colab": {
          "base_uri": "https://localhost:8080/",
          "height": 237
        },
        "id": "yQO3KBUMEDno",
        "outputId": "87b757ce-8473-4b7b-d553-caa41364c6ce"
      },
      "outputs": [
        {
          "data": {
            "text/html": [
              "<div>\n",
              "<style scoped>\n",
              "    .dataframe tbody tr th:only-of-type {\n",
              "        vertical-align: middle;\n",
              "    }\n",
              "\n",
              "    .dataframe tbody tr th {\n",
              "        vertical-align: top;\n",
              "    }\n",
              "\n",
              "    .dataframe thead th {\n",
              "        text-align: right;\n",
              "    }\n",
              "</style>\n",
              "<table border=\"1\" class=\"dataframe\">\n",
              "  <thead>\n",
              "    <tr style=\"text-align: right;\">\n",
              "      <th></th>\n",
              "      <th>C</th>\n",
              "      <th>D</th>\n",
              "      <th>A</th>\n",
              "      <th>B</th>\n",
              "      <th>F</th>\n",
              "    </tr>\n",
              "  </thead>\n",
              "  <tbody>\n",
              "    <tr>\n",
              "      <th>2013-01-01</th>\n",
              "      <td>-3.235948</td>\n",
              "      <td>-4.599843</td>\n",
              "      <td>-4.021262</td>\n",
              "      <td>-2.759107</td>\n",
              "      <td>-3.132442</td>\n",
              "    </tr>\n",
              "    <tr>\n",
              "      <th>2013-01-02</th>\n",
              "      <td>-5.977278</td>\n",
              "      <td>-4.049912</td>\n",
              "      <td>-5.151357</td>\n",
              "      <td>-5.103219</td>\n",
              "      <td>-4.589401</td>\n",
              "    </tr>\n",
              "    <tr>\n",
              "      <th>2013-01-03</th>\n",
              "      <td>-4.855956</td>\n",
              "      <td>-3.545726</td>\n",
              "      <td>-4.238962</td>\n",
              "      <td>-4.878325</td>\n",
              "      <td>-4.556137</td>\n",
              "    </tr>\n",
              "    <tr>\n",
              "      <th>2013-01-04</th>\n",
              "      <td>-4.666326</td>\n",
              "      <td>-3.505921</td>\n",
              "      <td>-5.205158</td>\n",
              "      <td>-4.686932</td>\n",
              "      <td>-5.854096</td>\n",
              "    </tr>\n",
              "    <tr>\n",
              "      <th>2013-01-05</th>\n",
              "      <td>-7.552990</td>\n",
              "      <td>-4.346381</td>\n",
              "      <td>-4.135564</td>\n",
              "      <td>-5.742165</td>\n",
              "      <td>-2.730245</td>\n",
              "    </tr>\n",
              "    <tr>\n",
              "      <th>2013-01-06</th>\n",
              "      <td>-6.454366</td>\n",
              "      <td>-4.954241</td>\n",
              "      <td>-5.187184</td>\n",
              "      <td>-3.467221</td>\n",
              "      <td>-3.530641</td>\n",
              "    </tr>\n",
              "  </tbody>\n",
              "</table>\n",
              "</div>"
            ],
            "text/plain": [
              "                   C         D         A         B         F\n",
              "2013-01-01 -3.235948 -4.599843 -4.021262 -2.759107 -3.132442\n",
              "2013-01-02 -5.977278 -4.049912 -5.151357 -5.103219 -4.589401\n",
              "2013-01-03 -4.855956 -3.545726 -4.238962 -4.878325 -4.556137\n",
              "2013-01-04 -4.666326 -3.505921 -5.205158 -4.686932 -5.854096\n",
              "2013-01-05 -7.552990 -4.346381 -4.135564 -5.742165 -2.730245\n",
              "2013-01-06 -6.454366 -4.954241 -5.187184 -3.467221 -3.530641"
            ]
          },
          "execution_count": 20,
          "metadata": {},
          "output_type": "execute_result"
        }
      ],
      "source": [
        "df - 5"
      ]
    },
    {
      "cell_type": "markdown",
      "metadata": {
        "id": "Q7o2R8QrLKuG"
      },
      "source": [
        "### 함수 적용"
      ]
    },
    {
      "cell_type": "markdown",
      "metadata": {
        "id": "KpeoQ5BaEDnp"
      },
      "source": [
        "- 참고: [`DataFrame.apply()`](https://pandas.pydata.org/docs/reference/api/pandas.DataFrame.apply.html#pandas.DataFrame.apply)"
      ]
    },
    {
      "cell_type": "code",
      "execution_count": 21,
      "metadata": {
        "colab": {
          "base_uri": "https://localhost:8080/",
          "height": 237
        },
        "id": "iLJ4sFNaEDnp",
        "outputId": "8b015c55-b92a-4a1b-cec3-e31b00801780"
      },
      "outputs": [
        {
          "data": {
            "text/html": [
              "<div>\n",
              "<style scoped>\n",
              "    .dataframe tbody tr th:only-of-type {\n",
              "        vertical-align: middle;\n",
              "    }\n",
              "\n",
              "    .dataframe tbody tr th {\n",
              "        vertical-align: top;\n",
              "    }\n",
              "\n",
              "    .dataframe thead th {\n",
              "        text-align: right;\n",
              "    }\n",
              "</style>\n",
              "<table border=\"1\" class=\"dataframe\">\n",
              "  <thead>\n",
              "    <tr style=\"text-align: right;\">\n",
              "      <th></th>\n",
              "      <th>C</th>\n",
              "      <th>D</th>\n",
              "      <th>A</th>\n",
              "      <th>B</th>\n",
              "      <th>F</th>\n",
              "    </tr>\n",
              "  </thead>\n",
              "  <tbody>\n",
              "    <tr>\n",
              "      <th>2013-01-01</th>\n",
              "      <td>1.764052</td>\n",
              "      <td>0.400157</td>\n",
              "      <td>0.978738</td>\n",
              "      <td>2.240893</td>\n",
              "      <td>1.867558</td>\n",
              "    </tr>\n",
              "    <tr>\n",
              "      <th>2013-01-02</th>\n",
              "      <td>-0.977278</td>\n",
              "      <td>0.950088</td>\n",
              "      <td>-0.151357</td>\n",
              "      <td>-0.103219</td>\n",
              "      <td>0.410599</td>\n",
              "    </tr>\n",
              "    <tr>\n",
              "      <th>2013-01-03</th>\n",
              "      <td>0.144044</td>\n",
              "      <td>1.454274</td>\n",
              "      <td>0.761038</td>\n",
              "      <td>0.121675</td>\n",
              "      <td>0.443863</td>\n",
              "    </tr>\n",
              "    <tr>\n",
              "      <th>2013-01-04</th>\n",
              "      <td>0.333674</td>\n",
              "      <td>1.494079</td>\n",
              "      <td>-0.205158</td>\n",
              "      <td>0.313068</td>\n",
              "      <td>-0.854096</td>\n",
              "    </tr>\n",
              "    <tr>\n",
              "      <th>2013-01-05</th>\n",
              "      <td>-2.552990</td>\n",
              "      <td>0.653619</td>\n",
              "      <td>0.864436</td>\n",
              "      <td>-0.742165</td>\n",
              "      <td>2.269755</td>\n",
              "    </tr>\n",
              "    <tr>\n",
              "      <th>2013-01-06</th>\n",
              "      <td>-1.454366</td>\n",
              "      <td>0.045759</td>\n",
              "      <td>-0.187184</td>\n",
              "      <td>1.532779</td>\n",
              "      <td>1.469359</td>\n",
              "    </tr>\n",
              "  </tbody>\n",
              "</table>\n",
              "</div>"
            ],
            "text/plain": [
              "                   C         D         A         B         F\n",
              "2013-01-01  1.764052  0.400157  0.978738  2.240893  1.867558\n",
              "2013-01-02 -0.977278  0.950088 -0.151357 -0.103219  0.410599\n",
              "2013-01-03  0.144044  1.454274  0.761038  0.121675  0.443863\n",
              "2013-01-04  0.333674  1.494079 -0.205158  0.313068 -0.854096\n",
              "2013-01-05 -2.552990  0.653619  0.864436 -0.742165  2.269755\n",
              "2013-01-06 -1.454366  0.045759 -0.187184  1.532779  1.469359"
            ]
          },
          "execution_count": 21,
          "metadata": {},
          "output_type": "execute_result"
        }
      ],
      "source": [
        "df"
      ]
    },
    {
      "cell_type": "markdown",
      "metadata": {
        "id": "siB8TRTqEDnp"
      },
      "source": [
        "- 열별 누적합"
      ]
    },
    {
      "cell_type": "code",
      "execution_count": 22,
      "metadata": {
        "colab": {
          "base_uri": "https://localhost:8080/",
          "height": 237
        },
        "id": "aEFEaXMULTf_",
        "outputId": "b5ff9784-b354-4765-a5b4-0a147d0feb97"
      },
      "outputs": [
        {
          "data": {
            "text/html": [
              "<div>\n",
              "<style scoped>\n",
              "    .dataframe tbody tr th:only-of-type {\n",
              "        vertical-align: middle;\n",
              "    }\n",
              "\n",
              "    .dataframe tbody tr th {\n",
              "        vertical-align: top;\n",
              "    }\n",
              "\n",
              "    .dataframe thead th {\n",
              "        text-align: right;\n",
              "    }\n",
              "</style>\n",
              "<table border=\"1\" class=\"dataframe\">\n",
              "  <thead>\n",
              "    <tr style=\"text-align: right;\">\n",
              "      <th></th>\n",
              "      <th>C</th>\n",
              "      <th>D</th>\n",
              "      <th>A</th>\n",
              "      <th>B</th>\n",
              "      <th>F</th>\n",
              "    </tr>\n",
              "  </thead>\n",
              "  <tbody>\n",
              "    <tr>\n",
              "      <th>2013-01-01</th>\n",
              "      <td>1.764052</td>\n",
              "      <td>0.400157</td>\n",
              "      <td>0.978738</td>\n",
              "      <td>2.240893</td>\n",
              "      <td>1.867558</td>\n",
              "    </tr>\n",
              "    <tr>\n",
              "      <th>2013-01-02</th>\n",
              "      <td>0.786774</td>\n",
              "      <td>1.350246</td>\n",
              "      <td>0.827381</td>\n",
              "      <td>2.137674</td>\n",
              "      <td>2.278156</td>\n",
              "    </tr>\n",
              "    <tr>\n",
              "      <th>2013-01-03</th>\n",
              "      <td>0.930818</td>\n",
              "      <td>2.804519</td>\n",
              "      <td>1.588419</td>\n",
              "      <td>2.259349</td>\n",
              "      <td>2.722020</td>\n",
              "    </tr>\n",
              "    <tr>\n",
              "      <th>2013-01-04</th>\n",
              "      <td>1.264492</td>\n",
              "      <td>4.298598</td>\n",
              "      <td>1.383260</td>\n",
              "      <td>2.572417</td>\n",
              "      <td>1.867924</td>\n",
              "    </tr>\n",
              "    <tr>\n",
              "      <th>2013-01-05</th>\n",
              "      <td>-1.288497</td>\n",
              "      <td>4.952217</td>\n",
              "      <td>2.247696</td>\n",
              "      <td>1.830252</td>\n",
              "      <td>4.137679</td>\n",
              "    </tr>\n",
              "    <tr>\n",
              "      <th>2013-01-06</th>\n",
              "      <td>-2.742863</td>\n",
              "      <td>4.997975</td>\n",
              "      <td>2.060513</td>\n",
              "      <td>3.363031</td>\n",
              "      <td>5.607037</td>\n",
              "    </tr>\n",
              "  </tbody>\n",
              "</table>\n",
              "</div>"
            ],
            "text/plain": [
              "                   C         D         A         B         F\n",
              "2013-01-01  1.764052  0.400157  0.978738  2.240893  1.867558\n",
              "2013-01-02  0.786774  1.350246  0.827381  2.137674  2.278156\n",
              "2013-01-03  0.930818  2.804519  1.588419  2.259349  2.722020\n",
              "2013-01-04  1.264492  4.298598  1.383260  2.572417  1.867924\n",
              "2013-01-05 -1.288497  4.952217  2.247696  1.830252  4.137679\n",
              "2013-01-06 -2.742863  4.997975  2.060513  3.363031  5.607037"
            ]
          },
          "execution_count": 22,
          "metadata": {},
          "output_type": "execute_result"
        }
      ],
      "source": [
        "df.apply(np.cumsum)"
      ]
    },
    {
      "cell_type": "markdown",
      "metadata": {
        "id": "FeQ4M1RvEDnp"
      },
      "source": [
        "- 행별 누적합"
      ]
    },
    {
      "cell_type": "code",
      "execution_count": 23,
      "metadata": {
        "colab": {
          "base_uri": "https://localhost:8080/",
          "height": 237
        },
        "id": "P7lPAD7DEDnq",
        "outputId": "6ded9a48-5e32-410e-9ed5-b5af1ca2cb15"
      },
      "outputs": [
        {
          "data": {
            "text/html": [
              "<div>\n",
              "<style scoped>\n",
              "    .dataframe tbody tr th:only-of-type {\n",
              "        vertical-align: middle;\n",
              "    }\n",
              "\n",
              "    .dataframe tbody tr th {\n",
              "        vertical-align: top;\n",
              "    }\n",
              "\n",
              "    .dataframe thead th {\n",
              "        text-align: right;\n",
              "    }\n",
              "</style>\n",
              "<table border=\"1\" class=\"dataframe\">\n",
              "  <thead>\n",
              "    <tr style=\"text-align: right;\">\n",
              "      <th></th>\n",
              "      <th>C</th>\n",
              "      <th>D</th>\n",
              "      <th>A</th>\n",
              "      <th>B</th>\n",
              "      <th>F</th>\n",
              "    </tr>\n",
              "  </thead>\n",
              "  <tbody>\n",
              "    <tr>\n",
              "      <th>2013-01-01</th>\n",
              "      <td>1.764052</td>\n",
              "      <td>2.164210</td>\n",
              "      <td>3.142948</td>\n",
              "      <td>5.383841</td>\n",
              "      <td>7.251399</td>\n",
              "    </tr>\n",
              "    <tr>\n",
              "      <th>2013-01-02</th>\n",
              "      <td>-0.977278</td>\n",
              "      <td>-0.027189</td>\n",
              "      <td>-0.178547</td>\n",
              "      <td>-0.281766</td>\n",
              "      <td>0.128833</td>\n",
              "    </tr>\n",
              "    <tr>\n",
              "      <th>2013-01-03</th>\n",
              "      <td>0.144044</td>\n",
              "      <td>1.598317</td>\n",
              "      <td>2.359355</td>\n",
              "      <td>2.481030</td>\n",
              "      <td>2.924893</td>\n",
              "    </tr>\n",
              "    <tr>\n",
              "      <th>2013-01-04</th>\n",
              "      <td>0.333674</td>\n",
              "      <td>1.827753</td>\n",
              "      <td>1.622595</td>\n",
              "      <td>1.935663</td>\n",
              "      <td>1.081567</td>\n",
              "    </tr>\n",
              "    <tr>\n",
              "      <th>2013-01-05</th>\n",
              "      <td>-2.552990</td>\n",
              "      <td>-1.899371</td>\n",
              "      <td>-1.034935</td>\n",
              "      <td>-1.777100</td>\n",
              "      <td>0.492655</td>\n",
              "    </tr>\n",
              "    <tr>\n",
              "      <th>2013-01-06</th>\n",
              "      <td>-1.454366</td>\n",
              "      <td>-1.408607</td>\n",
              "      <td>-1.595791</td>\n",
              "      <td>-0.063012</td>\n",
              "      <td>1.406347</td>\n",
              "    </tr>\n",
              "  </tbody>\n",
              "</table>\n",
              "</div>"
            ],
            "text/plain": [
              "                   C         D         A         B         F\n",
              "2013-01-01  1.764052  2.164210  3.142948  5.383841  7.251399\n",
              "2013-01-02 -0.977278 -0.027189 -0.178547 -0.281766  0.128833\n",
              "2013-01-03  0.144044  1.598317  2.359355  2.481030  2.924893\n",
              "2013-01-04  0.333674  1.827753  1.622595  1.935663  1.081567\n",
              "2013-01-05 -2.552990 -1.899371 -1.034935 -1.777100  0.492655\n",
              "2013-01-06 -1.454366 -1.408607 -1.595791 -0.063012  1.406347"
            ]
          },
          "execution_count": 23,
          "metadata": {},
          "output_type": "execute_result"
        }
      ],
      "source": [
        "df.apply(np.cumsum, axis='columns') # axis=1"
      ]
    },
    {
      "cell_type": "markdown",
      "metadata": {
        "id": "iEx9MbGHEDnq"
      },
      "source": [
        "- 열별 최대값과 최소값의 차이. 결측치는 무시"
      ]
    },
    {
      "cell_type": "code",
      "execution_count": 24,
      "metadata": {
        "colab": {
          "base_uri": "https://localhost:8080/",
          "height": 241
        },
        "id": "9q03tP3QLXDO",
        "outputId": "f570ec8f-7b78-4436-d67e-85fe420080d4"
      },
      "outputs": [
        {
          "data": {
            "text/plain": [
              "C    4.317042\n",
              "D    1.448321\n",
              "A    1.183896\n",
              "B    2.983058\n",
              "F    3.123850\n",
              "dtype: float64"
            ]
          },
          "execution_count": 24,
          "metadata": {},
          "output_type": "execute_result"
        }
      ],
      "source": [
        "df.apply(lambda x: x.max() - x.min())"
      ]
    },
    {
      "cell_type": "markdown",
      "metadata": {
        "id": "UzHTi_xHEDnq"
      },
      "source": [
        "- 행별 최대값과 최소값의 차이. 결측치는 무시"
      ]
    },
    {
      "cell_type": "code",
      "execution_count": 25,
      "metadata": {
        "colab": {
          "base_uri": "https://localhost:8080/",
          "height": 272
        },
        "id": "1ZXi4Wc8EDnq",
        "outputId": "a96e91f9-70af-41ee-ff66-5a49cb14cb5b"
      },
      "outputs": [
        {
          "data": {
            "text/plain": [
              "2013-01-01    1.840736\n",
              "2013-01-02    1.927366\n",
              "2013-01-03    1.332598\n",
              "2013-01-04    2.348175\n",
              "2013-01-05    4.822744\n",
              "2013-01-06    2.987145\n",
              "Freq: D, dtype: float64"
            ]
          },
          "execution_count": 25,
          "metadata": {},
          "output_type": "execute_result"
        }
      ],
      "source": [
        "df.apply(lambda x: x.max() - x.min(), axis=1)"
      ]
    }
  ],
  "metadata": {
    "colab": {
      "provenance": []
    },
    "kernelspec": {
      "display_name": "base",
      "language": "python",
      "name": "python3"
    },
    "language_info": {
      "codemirror_mode": {
        "name": "ipython",
        "version": 3
      },
      "file_extension": ".py",
      "mimetype": "text/x-python",
      "name": "python",
      "nbconvert_exporter": "python",
      "pygments_lexer": "ipython3",
      "version": "3.12.7"
    }
  },
  "nbformat": 4,
  "nbformat_minor": 0
}
