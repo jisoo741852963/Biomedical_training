{
  "cells": [
    {
      "cell_type": "markdown",
      "id": "97ecff92",
      "metadata": {
        "id": "97ecff92"
      },
      "source": [
        "# (실습) 실전 예제: 붓꽃 데이터 분석"
      ]
    },
    {
      "cell_type": "code",
      "execution_count": 23,
      "id": "83c36ad1",
      "metadata": {
        "id": "83c36ad1"
      },
      "outputs": [],
      "source": [
        "# 넘파이\n",
        "import numpy as np\n",
        "\n",
        "# 램덤 시드\n",
        "np.random.seed(12345)\n",
        "\n",
        "# 어레이 사용되는 부동소수점들의 정확도 지정\n",
        "np.set_printoptions(precision=4, suppress=True)"
      ]
    },
    {
      "cell_type": "code",
      "execution_count": 24,
      "id": "45cc6114",
      "metadata": {
        "id": "45cc6114"
      },
      "outputs": [],
      "source": [
        "# 파이플롯\n",
        "import matplotlib.pyplot as plt\n",
        "\n",
        "# # 도표 크기 지정\n",
        "plt.rc('figure', figsize=(10, 6))"
      ]
    },
    {
      "cell_type": "markdown",
      "id": "4523eae0",
      "metadata": {
        "id": "4523eae0"
      },
      "source": [
        "아래 코드는 인터넷 데이터 저장소로부터 아이리스(붓꽃) 데이터(`iris.data`)를\n",
        "2차원 넘파이 어레이로 불러온다."
      ]
    },
    {
      "cell_type": "markdown",
      "id": "0b973d49",
      "metadata": {
        "id": "0b973d49"
      },
      "source": [
        "- `np.genfromtxt()` 함수의 `dtype='str'` 키워드 옵션: 부동소수점과 문자열이 함께 포함된 데이터이기에 모두 문자열로 통일해서 불러오는 용도"
      ]
    },
    {
      "cell_type": "code",
      "execution_count": 25,
      "id": "f44d0a1e",
      "metadata": {
        "id": "f44d0a1e"
      },
      "outputs": [],
      "source": [
        "import numpy as np\n",
        "\n",
        "# 아이리스(붓꽃) 데이터 불러오기\n",
        "url = 'https://archive.ics.uci.edu/ml/machine-learning-databases/iris/iris.data'\n",
        "iris = np.genfromtxt(url, delimiter=',', dtype='str')"
      ]
    },
    {
      "cell_type": "markdown",
      "id": "4d45917c",
      "metadata": {
        "id": "4d45917c"
      },
      "source": [
        "`iris.data` 파일에는 아래 형식의 데이터가 150개 들어 있다.\n",
        "\n",
        "```python\n",
        "5.1,3.5,1.4,0.2,Iris-setosa\n",
        "```\n",
        "\n",
        "하나의 데이터에 사용된 값들은 하나의 아이리스(붓꽃)에 대한 꽃잎, 꽃받침과 관련된 특성(features)과 품종을 나타내며,\n",
        "보다 구체적으로 아래 순서를 따른다.\n",
        "\n",
        "```\n",
        "꽃받침 길이, 꽃받침 너비, 꽃잎 길이, 꽃잎 너비, 품종\n",
        "```"
      ]
    },
    {
      "cell_type": "code",
      "execution_count": 26,
      "id": "8bb7c2f9",
      "metadata": {
        "id": "8bb7c2f9",
        "outputId": "081c722e-bc87-4543-b9d3-ccb53096524e"
      },
      "outputs": [
        {
          "data": {
            "text/plain": [
              "(150, 5)"
            ]
          },
          "execution_count": 26,
          "metadata": {},
          "output_type": "execute_result"
        }
      ],
      "source": [
        "iris.shape"
      ]
    },
    {
      "cell_type": "markdown",
      "id": "c0484899",
      "metadata": {
        "id": "c0484899"
      },
      "source": [
        "길이와 너비를 저장하는 특성들은 원래 숫자이지만 위 코드는 문자열로 불러왔다.\n",
        "처음 5개 데이터를 확인하면 다음과 같다.\n",
        "\n",
        "__참고:__ `'<U15'`는 길이가 최대 15인 유니코드 문자열 자료형을 나타낸다."
      ]
    },
    {
      "cell_type": "code",
      "execution_count": 27,
      "id": "3f1f98ba",
      "metadata": {
        "id": "3f1f98ba",
        "outputId": "ae875e46-34be-410f-d53c-85614375355a"
      },
      "outputs": [
        {
          "data": {
            "text/plain": [
              "array([['5.1', '3.5', '1.4', '0.2', 'Iris-setosa'],\n",
              "       ['4.9', '3.0', '1.4', '0.2', 'Iris-setosa'],\n",
              "       ['4.7', '3.2', '1.3', '0.2', 'Iris-setosa'],\n",
              "       ['4.6', '3.1', '1.5', '0.2', 'Iris-setosa'],\n",
              "       ['5.0', '3.6', '1.4', '0.2', 'Iris-setosa']], dtype='<U15')"
            ]
          },
          "execution_count": 27,
          "metadata": {},
          "output_type": "execute_result"
        }
      ],
      "source": [
        "iris[:5]"
      ]
    },
    {
      "cell_type": "markdown",
      "id": "5bda5d05",
      "metadata": {
        "id": "5bda5d05"
      },
      "source": [
        "수치형 데이터와 품종 데이터를 분리해서 각각 (150,4), (150,) 모양의 어레이를 생성하자.\n",
        "이때 수치형 데이터는 `'f8'`, 즉 `'float64'` 자료형을 사용하도록 한다."
      ]
    },
    {
      "cell_type": "code",
      "execution_count": 28,
      "id": "f0a6a0a4",
      "metadata": {
        "id": "f0a6a0a4"
      },
      "outputs": [],
      "source": [
        "iris_features = iris[:,:4].astype('f8')\n",
        "iris_labels = iris[:, 4]"
      ]
    },
    {
      "cell_type": "code",
      "execution_count": 29,
      "id": "ef1b835d",
      "metadata": {
        "id": "ef1b835d",
        "outputId": "34aa3470-7257-4303-8f0b-daf96057c6d1"
      },
      "outputs": [
        {
          "data": {
            "text/plain": [
              "array([[5.1, 3.5, 1.4, 0.2],\n",
              "       [4.9, 3. , 1.4, 0.2],\n",
              "       [4.7, 3.2, 1.3, 0.2],\n",
              "       [4.6, 3.1, 1.5, 0.2],\n",
              "       [5. , 3.6, 1.4, 0.2]])"
            ]
          },
          "execution_count": 29,
          "metadata": {},
          "output_type": "execute_result"
        }
      ],
      "source": [
        "iris_features[:5]"
      ]
    },
    {
      "cell_type": "markdown",
      "id": "51420ffa",
      "metadata": {
        "id": "51420ffa"
      },
      "source": [
        "150개의 데이터는 아래 세 개의 품종으로 구분되며, 각각 50개씩 아래 언급된 순서대로 구분되어 있다.\n",
        "\n",
        "```\n",
        "'Iris-setosa', 'Iris-versicolor', 'Iris-virginica'\n",
        "```\n",
        "\n",
        "즉, 0번, 50번, 100번부터 각 품종의 데이터가 시작된다."
      ]
    },
    {
      "cell_type": "code",
      "execution_count": 30,
      "id": "ec1e3d75",
      "metadata": {
        "id": "ec1e3d75",
        "outputId": "9ef5106b-eef8-4d48-9c2a-eb9c572fed92"
      },
      "outputs": [
        {
          "data": {
            "text/plain": [
              "array(['Iris-setosa', 'Iris-versicolor', 'Iris-virginica'], dtype='<U15')"
            ]
          },
          "execution_count": 30,
          "metadata": {},
          "output_type": "execute_result"
        }
      ],
      "source": [
        "iris_labels[::50]"
      ]
    },
    {
      "cell_type": "code",
      "execution_count": 31,
      "id": "2bc9ae96",
      "metadata": {
        "id": "2bc9ae96",
        "outputId": "a4b95d99-36de-4deb-db6c-cab82cb950fe"
      },
      "outputs": [
        {
          "data": {
            "text/plain": [
              "array(['Iris-setosa', 'Iris-setosa', 'Iris-setosa', 'Iris-setosa',\n",
              "       'Iris-setosa'], dtype='<U15')"
            ]
          },
          "execution_count": 31,
          "metadata": {},
          "output_type": "execute_result"
        }
      ],
      "source": [
        "iris_labels[:5]"
      ]
    },
    {
      "cell_type": "code",
      "execution_count": 32,
      "id": "35fa2b46",
      "metadata": {
        "id": "35fa2b46",
        "outputId": "7a0e7fc3-3977-4019-9a0a-c8597f9428d8"
      },
      "outputs": [
        {
          "data": {
            "text/plain": [
              "array(['Iris-versicolor', 'Iris-versicolor', 'Iris-versicolor',\n",
              "       'Iris-versicolor', 'Iris-versicolor'], dtype='<U15')"
            ]
          },
          "execution_count": 32,
          "metadata": {},
          "output_type": "execute_result"
        }
      ],
      "source": [
        "iris_labels[50:55]"
      ]
    },
    {
      "cell_type": "code",
      "execution_count": 33,
      "id": "fd477f1b",
      "metadata": {
        "id": "fd477f1b",
        "outputId": "65c1f219-f634-4ba8-b094-a79623a0cafc"
      },
      "outputs": [
        {
          "data": {
            "text/plain": [
              "array(['Iris-virginica', 'Iris-virginica', 'Iris-virginica',\n",
              "       'Iris-virginica', 'Iris-virginica'], dtype='<U15')"
            ]
          },
          "execution_count": 33,
          "metadata": {},
          "output_type": "execute_result"
        }
      ],
      "source": [
        "iris_labels[100:105]"
      ]
    },
    {
      "cell_type": "markdown",
      "id": "707f09a7",
      "metadata": {
        "id": "707f09a7"
      },
      "source": [
        "**문제 1**"
      ]
    },
    {
      "cell_type": "markdown",
      "id": "bcca0683",
      "metadata": {
        "id": "bcca0683"
      },
      "source": [
        "꽃잎 길이(2번 열)가 1.5보다 크거나 꽃받침 길이(0번 열)가 5.0보다 작은 데이터만 추출하라."
      ]
    },
    {
      "cell_type": "code",
      "execution_count": 34,
      "id": "9a6320ee",
      "metadata": {
        "id": "9a6320ee"
      },
      "outputs": [
        {
          "data": {
            "text/plain": [
              "array([[4.9, 3. , 1.4, 0.2],\n",
              "       [4.7, 3.2, 1.3, 0.2],\n",
              "       [4.6, 3.1, 1.5, 0.2],\n",
              "       [5.4, 3.9, 1.7, 0.4],\n",
              "       [4.6, 3.4, 1.4, 0.3],\n",
              "       [4.4, 2.9, 1.4, 0.2],\n",
              "       [4.9, 3.1, 1.5, 0.1],\n",
              "       [4.8, 3.4, 1.6, 0.2],\n",
              "       [4.8, 3. , 1.4, 0.1],\n",
              "       [4.3, 3. , 1.1, 0.1],\n",
              "       [5.7, 3.8, 1.7, 0.3],\n",
              "       [5.4, 3.4, 1.7, 0.2],\n",
              "       [4.6, 3.6, 1. , 0.2],\n",
              "       [5.1, 3.3, 1.7, 0.5],\n",
              "       [4.8, 3.4, 1.9, 0.2],\n",
              "       [5. , 3. , 1.6, 0.2],\n",
              "       [5. , 3.4, 1.6, 0.4],\n",
              "       [4.7, 3.2, 1.6, 0.2],\n",
              "       [4.8, 3.1, 1.6, 0.2],\n",
              "       [4.9, 3.1, 1.5, 0.1],\n",
              "       [4.9, 3.1, 1.5, 0.1],\n",
              "       [4.4, 3. , 1.3, 0.2],\n",
              "       [4.5, 2.3, 1.3, 0.3],\n",
              "       [4.4, 3.2, 1.3, 0.2],\n",
              "       [5. , 3.5, 1.6, 0.6],\n",
              "       [5.1, 3.8, 1.9, 0.4],\n",
              "       [4.8, 3. , 1.4, 0.3],\n",
              "       [5.1, 3.8, 1.6, 0.2],\n",
              "       [4.6, 3.2, 1.4, 0.2],\n",
              "       [7. , 3.2, 4.7, 1.4],\n",
              "       [6.4, 3.2, 4.5, 1.5],\n",
              "       [6.9, 3.1, 4.9, 1.5],\n",
              "       [5.5, 2.3, 4. , 1.3],\n",
              "       [6.5, 2.8, 4.6, 1.5],\n",
              "       [5.7, 2.8, 4.5, 1.3],\n",
              "       [6.3, 3.3, 4.7, 1.6],\n",
              "       [4.9, 2.4, 3.3, 1. ],\n",
              "       [6.6, 2.9, 4.6, 1.3],\n",
              "       [5.2, 2.7, 3.9, 1.4],\n",
              "       [5. , 2. , 3.5, 1. ],\n",
              "       [5.9, 3. , 4.2, 1.5],\n",
              "       [6. , 2.2, 4. , 1. ],\n",
              "       [6.1, 2.9, 4.7, 1.4],\n",
              "       [5.6, 2.9, 3.6, 1.3],\n",
              "       [6.7, 3.1, 4.4, 1.4],\n",
              "       [5.6, 3. , 4.5, 1.5],\n",
              "       [5.8, 2.7, 4.1, 1. ],\n",
              "       [6.2, 2.2, 4.5, 1.5],\n",
              "       [5.6, 2.5, 3.9, 1.1],\n",
              "       [5.9, 3.2, 4.8, 1.8],\n",
              "       [6.1, 2.8, 4. , 1.3],\n",
              "       [6.3, 2.5, 4.9, 1.5],\n",
              "       [6.1, 2.8, 4.7, 1.2],\n",
              "       [6.4, 2.9, 4.3, 1.3],\n",
              "       [6.6, 3. , 4.4, 1.4],\n",
              "       [6.8, 2.8, 4.8, 1.4],\n",
              "       [6.7, 3. , 5. , 1.7],\n",
              "       [6. , 2.9, 4.5, 1.5],\n",
              "       [5.7, 2.6, 3.5, 1. ],\n",
              "       [5.5, 2.4, 3.8, 1.1],\n",
              "       [5.5, 2.4, 3.7, 1. ],\n",
              "       [5.8, 2.7, 3.9, 1.2],\n",
              "       [6. , 2.7, 5.1, 1.6],\n",
              "       [5.4, 3. , 4.5, 1.5],\n",
              "       [6. , 3.4, 4.5, 1.6],\n",
              "       [6.7, 3.1, 4.7, 1.5],\n",
              "       [6.3, 2.3, 4.4, 1.3],\n",
              "       [5.6, 3. , 4.1, 1.3],\n",
              "       [5.5, 2.5, 4. , 1.3],\n",
              "       [5.5, 2.6, 4.4, 1.2],\n",
              "       [6.1, 3. , 4.6, 1.4],\n",
              "       [5.8, 2.6, 4. , 1.2],\n",
              "       [5. , 2.3, 3.3, 1. ],\n",
              "       [5.6, 2.7, 4.2, 1.3],\n",
              "       [5.7, 3. , 4.2, 1.2],\n",
              "       [5.7, 2.9, 4.2, 1.3],\n",
              "       [6.2, 2.9, 4.3, 1.3],\n",
              "       [5.1, 2.5, 3. , 1.1],\n",
              "       [5.7, 2.8, 4.1, 1.3],\n",
              "       [6.3, 3.3, 6. , 2.5],\n",
              "       [5.8, 2.7, 5.1, 1.9],\n",
              "       [7.1, 3. , 5.9, 2.1],\n",
              "       [6.3, 2.9, 5.6, 1.8],\n",
              "       [6.5, 3. , 5.8, 2.2],\n",
              "       [7.6, 3. , 6.6, 2.1],\n",
              "       [4.9, 2.5, 4.5, 1.7],\n",
              "       [7.3, 2.9, 6.3, 1.8],\n",
              "       [6.7, 2.5, 5.8, 1.8],\n",
              "       [7.2, 3.6, 6.1, 2.5],\n",
              "       [6.5, 3.2, 5.1, 2. ],\n",
              "       [6.4, 2.7, 5.3, 1.9],\n",
              "       [6.8, 3. , 5.5, 2.1],\n",
              "       [5.7, 2.5, 5. , 2. ],\n",
              "       [5.8, 2.8, 5.1, 2.4],\n",
              "       [6.4, 3.2, 5.3, 2.3],\n",
              "       [6.5, 3. , 5.5, 1.8],\n",
              "       [7.7, 3.8, 6.7, 2.2],\n",
              "       [7.7, 2.6, 6.9, 2.3],\n",
              "       [6. , 2.2, 5. , 1.5],\n",
              "       [6.9, 3.2, 5.7, 2.3],\n",
              "       [5.6, 2.8, 4.9, 2. ],\n",
              "       [7.7, 2.8, 6.7, 2. ],\n",
              "       [6.3, 2.7, 4.9, 1.8],\n",
              "       [6.7, 3.3, 5.7, 2.1],\n",
              "       [7.2, 3.2, 6. , 1.8],\n",
              "       [6.2, 2.8, 4.8, 1.8],\n",
              "       [6.1, 3. , 4.9, 1.8],\n",
              "       [6.4, 2.8, 5.6, 2.1],\n",
              "       [7.2, 3. , 5.8, 1.6],\n",
              "       [7.4, 2.8, 6.1, 1.9],\n",
              "       [7.9, 3.8, 6.4, 2. ],\n",
              "       [6.4, 2.8, 5.6, 2.2],\n",
              "       [6.3, 2.8, 5.1, 1.5],\n",
              "       [6.1, 2.6, 5.6, 1.4],\n",
              "       [7.7, 3. , 6.1, 2.3],\n",
              "       [6.3, 3.4, 5.6, 2.4],\n",
              "       [6.4, 3.1, 5.5, 1.8],\n",
              "       [6. , 3. , 4.8, 1.8],\n",
              "       [6.9, 3.1, 5.4, 2.1],\n",
              "       [6.7, 3.1, 5.6, 2.4],\n",
              "       [6.9, 3.1, 5.1, 2.3],\n",
              "       [5.8, 2.7, 5.1, 1.9],\n",
              "       [6.8, 3.2, 5.9, 2.3],\n",
              "       [6.7, 3.3, 5.7, 2.5],\n",
              "       [6.7, 3. , 5.2, 2.3],\n",
              "       [6.3, 2.5, 5. , 1.9],\n",
              "       [6.5, 3. , 5.2, 2. ],\n",
              "       [6.2, 3.4, 5.4, 2.3],\n",
              "       [5.9, 3. , 5.1, 1.8]])"
            ]
          },
          "execution_count": 34,
          "metadata": {},
          "output_type": "execute_result"
        }
      ],
      "source": [
        "# None을 적절한 부울 표현식으로 대체하라.\n",
        "\n",
        "mask =(iris[:, 2].astype(float) > 1.5) | (iris[:, 0].astype(float) < 5.0)\n",
        "iris_features[mask]"
      ]
    },
    {
      "cell_type": "markdown",
      "id": "bc8df63e",
      "metadata": {
        "id": "bc8df63e"
      },
      "source": [
        "**문제 2**"
      ]
    },
    {
      "cell_type": "markdown",
      "id": "41628dd8",
      "metadata": {
        "id": "41628dd8"
      },
      "source": [
        "꽃받침 길이(0번 열)와 꽃잎 길이(2번 열) 사이의 상관관계를 계산하라.\n",
        "\n",
        "힌트: 넘파이의 적절한 함수를 활용한다. 상관계수에 대한 설명은 [위키백과: 상관분석](https://ko.wikipedia.org/wiki/상관_분석)을 참고한다."
      ]
    },
    {
      "cell_type": "code",
      "execution_count": 35,
      "id": "90beda34",
      "metadata": {
        "id": "90beda34"
      },
      "outputs": [
        {
          "name": "stdout",
          "output_type": "stream",
          "text": [
            "상관관계: 0.8717541573048718\n"
          ]
        }
      ],
      "source": [
        "# 적절한 넘파이 함수를 호출하라.\n",
        "sepal_length = iris[:, 0].astype(float)\n",
        "petal_length = iris[:, 2].astype(float)\n",
        "\n",
        "correlation = np.corrcoef(sepal_length, petal_length)\n",
        "print(\"상관관계:\", correlation[0, 1])"
      ]
    },
    {
      "cell_type": "markdown",
      "id": "b97ffc00",
      "metadata": {
        "id": "b97ffc00"
      },
      "source": [
        "**문제 3**"
      ]
    },
    {
      "cell_type": "markdown",
      "id": "b6699dd6",
      "metadata": {
        "id": "b6699dd6"
      },
      "source": [
        "아래 식으로 계산된 값을 갖는 새로운 열(column)이 추가된 2차원 어레이  `iris_features_added`를 생성하라.\n",
        "\n",
        "$$\\frac{\\text{원주율} \\times \\text{꽃잎길이} \\times \\text{꽃받침길이}^2}{3} $$\n",
        "\n",
        "힌트: `np.hstack()` 함수를 활용할 수 있다."
      ]
    },
    {
      "cell_type": "code",
      "execution_count": 40,
      "id": "48627edc",
      "metadata": {
        "id": "48627edc"
      },
      "outputs": [],
      "source": [
        "# pass와 None을 각각 적절한 코드와 표현식으로 대체하라.\n",
        "\n",
        "new_feature = (3.14 * iris_features[:, 2] * iris_features[:, 0] ** 2).reshape(-1, 1)\n",
        "iris_features_added = np.hstack([iris_features, new_feature])"
      ]
    },
    {
      "cell_type": "code",
      "execution_count": 41,
      "id": "57fbd892",
      "metadata": {
        "id": "57fbd892"
      },
      "outputs": [
        {
          "data": {
            "text/plain": [
              "array([[  5.1   ,   3.5   ,   1.4   ,   0.2   , 114.34  ],\n",
              "       [  4.9   ,   3.    ,   1.4   ,   0.2   , 105.548 ],\n",
              "       [  4.7   ,   3.2   ,   1.3   ,   0.2   ,  90.1714],\n",
              "       [  4.6   ,   3.1   ,   1.5   ,   0.2   ,  99.6636],\n",
              "       [  5.    ,   3.6   ,   1.4   ,   0.2   , 109.9   ]])"
            ]
          },
          "execution_count": 41,
          "metadata": {},
          "output_type": "execute_result"
        }
      ],
      "source": [
        "# 아래 주석을 해제하고 실행하라.\n",
        "\n",
        "assert iris_features_added.shape == (150, 5)\n",
        "iris_features_added[:5]"
      ]
    },
    {
      "cell_type": "markdown",
      "id": "4d4b4f93",
      "metadata": {
        "id": "4d4b4f93"
      },
      "source": [
        "**문제 4**"
      ]
    },
    {
      "cell_type": "markdown",
      "id": "ffedb587",
      "metadata": {
        "id": "ffedb587"
      },
      "source": [
        "`Iris_versicolor` 품종에 해당하는 데이터만 `iris_features`로부터 추출하라."
      ]
    },
    {
      "cell_type": "code",
      "execution_count": 42,
      "id": "523d1d75",
      "metadata": {
        "id": "523d1d75"
      },
      "outputs": [
        {
          "data": {
            "text/plain": [
              "array([[7. , 3.2, 4.7, 1.4],\n",
              "       [6.4, 3.2, 4.5, 1.5],\n",
              "       [6.9, 3.1, 4.9, 1.5],\n",
              "       [5.5, 2.3, 4. , 1.3],\n",
              "       [6.5, 2.8, 4.6, 1.5]])"
            ]
          },
          "execution_count": 42,
          "metadata": {},
          "output_type": "execute_result"
        }
      ],
      "source": [
        "# None을 적절한 부울 표현식으로 대체하라.\n",
        "\n",
        "mask = iris_labels == 'Iris-versicolor'\n",
        "versicolor = iris_features[mask]\n",
        "versicolor[:5]"
      ]
    },
    {
      "cell_type": "markdown",
      "id": "dc332748",
      "metadata": {
        "id": "dc332748"
      },
      "source": [
        "**문제 5**"
      ]
    },
    {
      "cell_type": "markdown",
      "id": "17a8b3f7",
      "metadata": {
        "id": "17a8b3f7"
      },
      "source": [
        "꽃받침 길이(0번 열)의 평균값(mean), 중앙값(median), 표준편차(standard deviation)를 구하라."
      ]
    },
    {
      "cell_type": "code",
      "execution_count": 43,
      "id": "4d122a6e",
      "metadata": {
        "id": "4d122a6e"
      },
      "outputs": [
        {
          "name": "stdout",
          "output_type": "stream",
          "text": [
            "5.843333333333334\n",
            "5.8\n",
            "0.8253012917851409\n"
          ]
        }
      ],
      "source": [
        "# None을 적절한 표현식으로 대체하라.\n",
        "\n",
        "petal_length_mean = iris_features[:, 0].mean()\n",
        "petal_length_median = np.median(iris_features[:, 0])\n",
        "petal_length_std = iris_features[:, 0].std()\n",
        "\n",
        "print(petal_length_mean, petal_length_median, petal_length_std, sep='\\n')"
      ]
    },
    {
      "cell_type": "markdown",
      "id": "a2c3c9e4",
      "metadata": {
        "id": "a2c3c9e4"
      },
      "source": [
        "**문제 6**"
      ]
    },
    {
      "cell_type": "markdown",
      "id": "11d0a4d8",
      "metadata": {
        "id": "11d0a4d8"
      },
      "source": [
        "세 개의 품종 별 꽃받침 너비(1번 열)의 평균값을 계산하여\n",
        "변수 `iris_kind_sepal_length`가 아래 사전을 가리키도록 하라.\n",
        "\n",
        "```\n",
        "{'Iris-setosa':3.418,\n",
        " 'Iris-versicolor':2.77,\n",
        " 'Iris-virginica':2.974}\n",
        "```"
      ]
    },
    {
      "cell_type": "code",
      "execution_count": 45,
      "id": "4845447a",
      "metadata": {
        "id": "4845447a"
      },
      "outputs": [
        {
          "data": {
            "text/plain": [
              "{'Iris-setosa': 3.418, 'Iris-versicolor': 2.77, 'Iris-virginica': 2.974}"
            ]
          },
          "execution_count": 45,
          "metadata": {},
          "output_type": "execute_result"
        }
      ],
      "source": [
        "# pass와 None을 각각 적절한 코드와 표현식으로 대체하라.\n",
        "\n",
        "labels = np.unique(iris_labels)\n",
        "labels\n",
        "mask = iris_labels == 'Iris-setosa'\n",
        "iris_features[:, 1][mask].mean()\n",
        "\n",
        "iris_kind_sepal_length = dict()\n",
        "for label in labels:\n",
        "    mask = iris_labels == label\n",
        "    label_mean = iris_features[:, 1][mask].mean()\n",
        "    iris_kind_sepal_length[label] = np.round(label_mean, 3)\n",
        "\n",
        "iris_kind_sepal_length"
      ]
    },
    {
      "cell_type": "code",
      "execution_count": null,
      "id": "e9a8f3b3",
      "metadata": {
        "id": "e9a8f3b3"
      },
      "outputs": [],
      "source": [
        "assert (iris_kind_sepal_length == {'Iris-setosa':3.418,\n",
        "                                   'Iris-versicolor':2.77,\n",
        "                                   'Iris-virginica':2.974})"
      ]
    },
    {
      "cell_type": "markdown",
      "id": "e3715123",
      "metadata": {
        "id": "e3715123"
      },
      "source": [
        "**문제 7**"
      ]
    },
    {
      "cell_type": "markdown",
      "id": "2a89d2c6",
      "metadata": {
        "id": "2a89d2c6"
      },
      "source": [
        "`iris_features`에 사용된 모든 값을 특성별로 정규화(normalization)하라.\n",
        "\n",
        "힌트: 꽃잎 너비 등 하나의 특성에 속하는 값을 모두 0과 1사이의 값으로 변환하는 작업을 정규화(normalization)라 한다.\n",
        "정규화에 대한 설명은 [정규화/표준화](https://rucrazia.tistory.com/90)를 참고하라."
      ]
    },
    {
      "cell_type": "code",
      "execution_count": 46,
      "id": "aefce832",
      "metadata": {
        "id": "aefce832"
      },
      "outputs": [],
      "source": [
        "# None을 적절한 부울 표현식으로 대체하라.\n",
        "\n",
        "iris_features_normalized = (iris_features - iris_features.min(axis=0)) / (iris_features.max(axis=0) - iris_features.min(axis=0))"
      ]
    },
    {
      "cell_type": "markdown",
      "id": "214ef2f8",
      "metadata": {
        "id": "214ef2f8"
      },
      "source": [
        "아래 코드는 수정하지 마세요!!!"
      ]
    },
    {
      "cell_type": "code",
      "execution_count": null,
      "id": "c6c01fbf",
      "metadata": {
        "id": "c6c01fbf"
      },
      "outputs": [],
      "source": [
        "sol = np.array([[0.22222222, 0.625     , 0.06779661, 0.04166667],\n",
        "                [0.16666667, 0.41666667, 0.06779661, 0.04166667],\n",
        "                [0.11111111, 0.5       , 0.05084746, 0.04166667],\n",
        "                [0.08333333, 0.45833333, 0.08474576, 0.04166667],\n",
        "                [0.19444444, 0.66666667, 0.06779661, 0.04166667]])\n",
        "\n",
        "assert ~(iris_features_normalized.min(axis=0).all())\n",
        "assert (iris_features_normalized.max(axis=0).all())\n",
        "assert np.allclose(iris_features_normalized[:5], sol)"
      ]
    },
    {
      "cell_type": "markdown",
      "id": "d3c1a73a",
      "metadata": {
        "id": "d3c1a73a"
      },
      "source": [
        "**문제 8**"
      ]
    },
    {
      "cell_type": "markdown",
      "id": "18411e15",
      "metadata": {
        "id": "18411e15"
      },
      "source": [
        "`iris_features`에 사용된 모든 값을 특성별로 표준화(standardization)하라.\n",
        "\n",
        "힌트: 꽃잎 너비 등 하나의 특성에 속하는 값들의 평균값은 0, 표준편차는 1이 되도록 항목을 변환하는 작업을 표준화(standardization)라 한다.\n",
        "표준화에 대한 설명은 [정규화/표준화](https://rucrazia.tistory.com/90)를 참고하라."
      ]
    },
    {
      "cell_type": "code",
      "execution_count": 49,
      "id": "2f960ff4",
      "metadata": {
        "id": "2f960ff4"
      },
      "outputs": [
        {
          "data": {
            "text/plain": [
              "array([[-0.9007,  1.0321, -1.3413, -1.313 ],\n",
              "       [-1.143 , -0.125 , -1.3413, -1.313 ],\n",
              "       [-1.3854,  0.3378, -1.3981, -1.313 ],\n",
              "       [-1.5065,  0.1064, -1.2844, -1.313 ],\n",
              "       [-1.0218,  1.2635, -1.3413, -1.313 ]])"
            ]
          },
          "execution_count": 49,
          "metadata": {},
          "output_type": "execute_result"
        }
      ],
      "source": [
        "# None을 적절한 부울 표현식으로 대체하라.\n",
        "\n",
        "iris_features_standardized = (iris_features - iris_features.mean(axis=0)) / iris_features.std(axis=0)\n",
        "\n",
        "iris_features_standardized.mean(axis=0)\n",
        "\n",
        "iris_features_standardized[:5]"
      ]
    },
    {
      "cell_type": "code",
      "execution_count": 50,
      "id": "c29ef50d",
      "metadata": {
        "id": "c29ef50d"
      },
      "outputs": [
        {
          "data": {
            "text/plain": [
              "array([[-0.9007,  1.0321, -1.3413, -1.313 ],\n",
              "       [-1.143 , -0.125 , -1.3413, -1.313 ],\n",
              "       [-1.3854,  0.3378, -1.3981, -1.313 ],\n",
              "       [-1.5065,  0.1064, -1.2844, -1.313 ],\n",
              "       [-1.0218,  1.2635, -1.3413, -1.313 ]])"
            ]
          },
          "execution_count": 50,
          "metadata": {},
          "output_type": "execute_result"
        }
      ],
      "source": [
        "# 아래 주석을 해제하고 실행하라.\n",
        "\n",
        "iris_features_standardized[:5]"
      ]
    },
    {
      "cell_type": "markdown",
      "id": "aeda9ea9",
      "metadata": {
        "id": "aeda9ea9"
      },
      "source": [
        "**문제 9**"
      ]
    },
    {
      "cell_type": "markdown",
      "id": "6b0a1648",
      "metadata": {
        "id": "6b0a1648"
      },
      "source": [
        "아래 코드는 붓꽃 데이터의 산점도를 품종에 따라 다른 모양과 색을 갖는 산점도를 그린다."
      ]
    },
    {
      "cell_type": "code",
      "execution_count": 51,
      "id": "74ab7c53",
      "metadata": {
        "id": "74ab7c53"
      },
      "outputs": [],
      "source": [
        "X = iris_features[:, 2] # 꽃잎 길이\n",
        "Y = iris_features[:, 3] # 꽃잎 너비\n",
        "\n",
        "points_x = np.arange(0, 7.01, 0.02)\n",
        "points_y = np.arange(0, 3.51, 0.02)\n",
        "xs, ys = np.meshgrid(points_x, points_y)\n",
        "\n",
        "Z = np.zeros(xs.shape)"
      ]
    },
    {
      "cell_type": "code",
      "execution_count": 52,
      "id": "562073be",
      "metadata": {
        "id": "562073be",
        "outputId": "1732d6df-8522-484e-a276-b6ee71154fd3"
      },
      "outputs": [
        {
          "data": {
            "image/png": "[encoded data removed]",
            "text/plain": [
              "<Figure size 800x400 with 1 Axes>"
            ]
          },
          "metadata": {},
          "output_type": "display_data"
        }
      ],
      "source": [
        "plt.figure(figsize=(8, 4))\n",
        "\n",
        "# 등고선을 색으로 구분\n",
        "plt.contourf(xs, ys, Z, alpha=0.1, cmap='Purples')\n",
        "\n",
        "# 붓꽃 데이터 산점도\n",
        "plt.plot(X[iris_labels == 'Iris-setosa'], Y[iris_labels == 'Iris-setosa'], 'm+', label='Iris setosa')\n",
        "plt.plot(X[iris_labels == 'Iris-versicolor'], Y[iris_labels == 'Iris-versicolor'], 'ys', label='Iris versicolor')\n",
        "plt.plot(X[iris_labels == 'Iris-virginica'], Y[iris_labels == 'Iris-virginica'], 'b^',  label='Iris setosa')\n",
        "\n",
        "plt.xlabel(\"Petal length\")\n",
        "plt.ylabel(\"Petal width\")\n",
        "plt.legend(loc=\"upper left\")\n",
        "plt.axis([0, 7.0, 0, 3])\n",
        "\n",
        "# plt.grid()\n",
        "plt.show()"
      ]
    },
    {
      "cell_type": "markdown",
      "id": "2bfa61fe",
      "metadata": {
        "id": "2bfa61fe"
      },
      "source": [
        "위 코드에 사용된 2차원 어레이 `Z`를 수정하여 아래 산점도를 그리는 코드를 작성하려 한다."
      ]
    },
    {
      "cell_type": "markdown",
      "id": "76a357b6",
      "metadata": {
        "id": "76a357b6"
      },
      "source": [
        "<p><div align=\"center\"><img src=\"https://raw.githubusercontent.com/codingalzi/datapy/master/jupyter-book//images/iris-classification.png\" style=\"width:70%;\"></div></p>"
      ]
    },
    {
      "cell_type": "markdown",
      "id": "2e40c325",
      "metadata": {
        "id": "2e40c325"
      },
      "source": [
        "이를 위해 영역을 구분하는 두 개의 직선은 다음 두 개의 직선 방정식을 이용한다.\n",
        "\n",
        "```\n",
        "y = x + 3\n",
        "y = x + 6.6\n",
        "```"
      ]
    },
    {
      "cell_type": "markdown",
      "id": "0dd90755",
      "metadata": {
        "id": "0dd90755"
      },
      "source": [
        "**질문**"
      ]
    },
    {
      "cell_type": "markdown",
      "id": "9737bfea",
      "metadata": {
        "id": "9737bfea"
      },
      "source": [
        "아래 코드는 세 개의 영역을 구분하는 세 개의 마스크를 지정한다.\n",
        "`None`을 모두 적절한 어레이 논리식으로 대체하라."
      ]
    },
    {
      "cell_type": "code",
      "execution_count": 53,
      "id": "37878127",
      "metadata": {
        "id": "37878127"
      },
      "outputs": [],
      "source": [
        "mask1 = xs + ys - 3.0 <= 0\n",
        "mask2 = (xs + ys - 3.0 > 0) & (xs + ys - 6.6 <= 0)\n",
        "mask3 = (xs + ys - 6.6 > 0)"
      ]
    },
    {
      "cell_type": "markdown",
      "id": "81c9eb79",
      "metadata": {
        "id": "81c9eb79"
      },
      "source": [
        "정해진 마스크에 따라 등고선 어레이 `Z`의 값을 0, 1, 2 중에 하나로 지정한다."
      ]
    },
    {
      "cell_type": "code",
      "execution_count": 54,
      "id": "9f9143de",
      "metadata": {
        "id": "9f9143de"
      },
      "outputs": [],
      "source": [
        "Z[mask1] = 0\n",
        "Z[mask2] = 1\n",
        "Z[mask3] = 2"
      ]
    },
    {
      "cell_type": "markdown",
      "id": "67eb6b21",
      "metadata": {
        "id": "67eb6b21"
      },
      "source": [
        "수정된 등고선 어레이 `Z`를 이용하여 산점도를 그린다."
      ]
    },
    {
      "cell_type": "code",
      "execution_count": 55,
      "id": "d5aa7edf",
      "metadata": {
        "id": "d5aa7edf",
        "outputId": "4566c02d-d2e7-408d-8b65-dc0b3ab69a06"
      },
      "outputs": [
        {
          "data": {
            "image/png": "[encoded data removed]",
            "text/plain": [
              "<Figure size 800x400 with 1 Axes>"
            ]
          },
          "metadata": {},
          "output_type": "display_data"
        }
      ],
      "source": [
        "plt.figure(figsize=(8, 4))\n",
        "\n",
        "# 등고선을 색으로 구분\n",
        "plt.contourf(xs, ys, Z, alpha=0.1, cmap='Purples')\n",
        "\n",
        "# 붓꽃 데이터 산점도\n",
        "plt.plot(X[iris_labels == 'Iris-setosa'], Y[iris_labels == 'Iris-setosa'], 'm+', label='Iris setosa')\n",
        "plt.plot(X[iris_labels == 'Iris-versicolor'], Y[iris_labels == 'Iris-versicolor'], 'ys', label='Iris versicolor')\n",
        "plt.plot(X[iris_labels == 'Iris-virginica'], Y[iris_labels == 'Iris-virginica'], 'b^',  label='Iris setosa')\n",
        "\n",
        "plt.xlabel(\"Petal length\")\n",
        "plt.ylabel(\"Petal width\")\n",
        "plt.legend(loc=\"upper left\")\n",
        "plt.axis([0, 7.0, 0, 3])\n",
        "\n",
        "# plt.grid()\n",
        "plt.show()"
      ]
    }
  ],
  "metadata": {
    "colab": {
      "provenance": []
    },
    "kernelspec": {
      "display_name": "base",
      "language": "python",
      "name": "python3"
    },
    "language_info": {
      "codemirror_mode": {
        "name": "ipython",
        "version": 3
      },
      "file_extension": ".py",
      "mimetype": "text/x-python",
      "name": "python",
      "nbconvert_exporter": "python",
      "pygments_lexer": "ipython3",
      "version": "3.12.7"
    }
  },
  "nbformat": 4,
  "nbformat_minor": 5
}
